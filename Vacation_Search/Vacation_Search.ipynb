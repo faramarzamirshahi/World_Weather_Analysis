{
 "cells": [
  {
   "cell_type": "markdown",
   "metadata": {},
   "source": [
    "## Deliverable 2. Create a Customer Travel Destinations Map."
   ]
  },
  {
   "cell_type": "code",
   "execution_count": 1,
   "metadata": {},
   "outputs": [],
   "source": [
    "# Dependencies and Setup\n",
    "import pandas as pd\n",
    "import requests\n",
    "import gmaps\n",
    "\n",
    "# to reference config.py\n",
    "import sys\n",
    "sys.path.append('../')\n",
    "\n",
    "\n",
    "import config\n",
    "\n",
    "# Import API key\n",
    "from config import g_key\n",
    "\n",
    "# Configure gmaps API key\n",
    "gmaps.configure(api_key=g_key)"
   ]
  },
  {
   "cell_type": "code",
   "execution_count": 2,
   "metadata": {},
   "outputs": [
    {
     "output_type": "execute_result",
     "data": {
      "text/plain": "   Unnamed: 0          City Country    Lat     Lng  Max Temp  Humidity  \\\n0           0  Punta Arenas      CL -53.15  -70.92     37.40        44   \n1           1       Ushuaia      AR -54.80  -68.30     28.40        92   \n2           2      Beinamar      TD   8.67   15.38     73.24        89   \n3           3        Atuona      PF  -9.80 -139.03     78.82        75   \n4           4      Tessalit      ML  20.20    1.01     92.30        11   \n\n   Cloudiness  Wind Speed Current Description  \n0          40       17.22    scattered clouds  \n1          75       17.22          light snow  \n2          96        2.35     overcast clouds  \n3           3       21.94           clear sky  \n4          12       13.82          few clouds  ",
      "text/html": "<div>\n<style scoped>\n    .dataframe tbody tr th:only-of-type {\n        vertical-align: middle;\n    }\n\n    .dataframe tbody tr th {\n        vertical-align: top;\n    }\n\n    .dataframe thead th {\n        text-align: right;\n    }\n</style>\n<table border=\"1\" class=\"dataframe\">\n  <thead>\n    <tr style=\"text-align: right;\">\n      <th></th>\n      <th>Unnamed: 0</th>\n      <th>City</th>\n      <th>Country</th>\n      <th>Lat</th>\n      <th>Lng</th>\n      <th>Max Temp</th>\n      <th>Humidity</th>\n      <th>Cloudiness</th>\n      <th>Wind Speed</th>\n      <th>Current Description</th>\n    </tr>\n  </thead>\n  <tbody>\n    <tr>\n      <th>0</th>\n      <td>0</td>\n      <td>Punta Arenas</td>\n      <td>CL</td>\n      <td>-53.15</td>\n      <td>-70.92</td>\n      <td>37.40</td>\n      <td>44</td>\n      <td>40</td>\n      <td>17.22</td>\n      <td>scattered clouds</td>\n    </tr>\n    <tr>\n      <th>1</th>\n      <td>1</td>\n      <td>Ushuaia</td>\n      <td>AR</td>\n      <td>-54.80</td>\n      <td>-68.30</td>\n      <td>28.40</td>\n      <td>92</td>\n      <td>75</td>\n      <td>17.22</td>\n      <td>light snow</td>\n    </tr>\n    <tr>\n      <th>2</th>\n      <td>2</td>\n      <td>Beinamar</td>\n      <td>TD</td>\n      <td>8.67</td>\n      <td>15.38</td>\n      <td>73.24</td>\n      <td>89</td>\n      <td>96</td>\n      <td>2.35</td>\n      <td>overcast clouds</td>\n    </tr>\n    <tr>\n      <th>3</th>\n      <td>3</td>\n      <td>Atuona</td>\n      <td>PF</td>\n      <td>-9.80</td>\n      <td>-139.03</td>\n      <td>78.82</td>\n      <td>75</td>\n      <td>3</td>\n      <td>21.94</td>\n      <td>clear sky</td>\n    </tr>\n    <tr>\n      <th>4</th>\n      <td>4</td>\n      <td>Tessalit</td>\n      <td>ML</td>\n      <td>20.20</td>\n      <td>1.01</td>\n      <td>92.30</td>\n      <td>11</td>\n      <td>12</td>\n      <td>13.82</td>\n      <td>few clouds</td>\n    </tr>\n  </tbody>\n</table>\n</div>"
     },
     "metadata": {},
     "execution_count": 2
    }
   ],
   "source": [
    "# 1. Import the WeatherPy_database.csv file. \n",
    "city_data_df = pd.read_csv(\"../Weather_Database/WeatherPy_database.csv\")\n",
    "city_data_df.head()"
   ]
  },
  {
   "cell_type": "code",
   "execution_count": 3,
   "metadata": {},
   "outputs": [
    {
     "output_type": "execute_result",
     "data": {
      "text/plain": "       Unnamed: 0         Lat         Lng    Max Temp    Humidity  Cloudiness  \\\ncount   721.00000  721.000000  721.000000  721.000000  721.000000  721.000000   \nmean    360.00000   19.288128   15.757060   65.281928   69.320388   48.625520   \nstd     208.27906   32.153641   90.474988   17.268368   23.117243   38.720668   \nmin       0.00000  -54.800000 -179.170000   15.150000    8.000000    0.000000   \n25%     180.00000   -6.880000  -65.710000   53.600000   55.000000    6.000000   \n50%     360.00000   21.670000   18.420000   68.000000   77.000000   41.000000   \n75%     540.00000   46.130000  102.280000   78.730000   88.000000   90.000000   \nmax     720.00000   78.220000  179.320000  106.360000  100.000000  100.000000   \n\n       Wind Speed  \ncount  721.000000  \nmean     8.177351  \nstd      6.142092  \nmin      0.090000  \n25%      3.400000  \n50%      6.710000  \n75%     11.410000  \nmax     60.060000  ",
      "text/html": "<div>\n<style scoped>\n    .dataframe tbody tr th:only-of-type {\n        vertical-align: middle;\n    }\n\n    .dataframe tbody tr th {\n        vertical-align: top;\n    }\n\n    .dataframe thead th {\n        text-align: right;\n    }\n</style>\n<table border=\"1\" class=\"dataframe\">\n  <thead>\n    <tr style=\"text-align: right;\">\n      <th></th>\n      <th>Unnamed: 0</th>\n      <th>Lat</th>\n      <th>Lng</th>\n      <th>Max Temp</th>\n      <th>Humidity</th>\n      <th>Cloudiness</th>\n      <th>Wind Speed</th>\n    </tr>\n  </thead>\n  <tbody>\n    <tr>\n      <th>count</th>\n      <td>721.00000</td>\n      <td>721.000000</td>\n      <td>721.000000</td>\n      <td>721.000000</td>\n      <td>721.000000</td>\n      <td>721.000000</td>\n      <td>721.000000</td>\n    </tr>\n    <tr>\n      <th>mean</th>\n      <td>360.00000</td>\n      <td>19.288128</td>\n      <td>15.757060</td>\n      <td>65.281928</td>\n      <td>69.320388</td>\n      <td>48.625520</td>\n      <td>8.177351</td>\n    </tr>\n    <tr>\n      <th>std</th>\n      <td>208.27906</td>\n      <td>32.153641</td>\n      <td>90.474988</td>\n      <td>17.268368</td>\n      <td>23.117243</td>\n      <td>38.720668</td>\n      <td>6.142092</td>\n    </tr>\n    <tr>\n      <th>min</th>\n      <td>0.00000</td>\n      <td>-54.800000</td>\n      <td>-179.170000</td>\n      <td>15.150000</td>\n      <td>8.000000</td>\n      <td>0.000000</td>\n      <td>0.090000</td>\n    </tr>\n    <tr>\n      <th>25%</th>\n      <td>180.00000</td>\n      <td>-6.880000</td>\n      <td>-65.710000</td>\n      <td>53.600000</td>\n      <td>55.000000</td>\n      <td>6.000000</td>\n      <td>3.400000</td>\n    </tr>\n    <tr>\n      <th>50%</th>\n      <td>360.00000</td>\n      <td>21.670000</td>\n      <td>18.420000</td>\n      <td>68.000000</td>\n      <td>77.000000</td>\n      <td>41.000000</td>\n      <td>6.710000</td>\n    </tr>\n    <tr>\n      <th>75%</th>\n      <td>540.00000</td>\n      <td>46.130000</td>\n      <td>102.280000</td>\n      <td>78.730000</td>\n      <td>88.000000</td>\n      <td>90.000000</td>\n      <td>11.410000</td>\n    </tr>\n    <tr>\n      <th>max</th>\n      <td>720.00000</td>\n      <td>78.220000</td>\n      <td>179.320000</td>\n      <td>106.360000</td>\n      <td>100.000000</td>\n      <td>100.000000</td>\n      <td>60.060000</td>\n    </tr>\n  </tbody>\n</table>\n</div>"
     },
     "metadata": {},
     "execution_count": 3
    }
   ],
   "source": [
    "city_data_df.describe()"
   ]
  },
  {
   "cell_type": "code",
   "execution_count": 4,
   "metadata": {},
   "outputs": [],
   "source": [
    "# 2. Prompt the user to enter minimum and maximum temperature criteria \n",
    "min_temp = float(input(\"What is the minimum temperature you would like for your trip? \"))\n",
    "max_temp = float(input(\"What is the maximum temperature you would like for your trip? \"))"
   ]
  },
  {
   "cell_type": "code",
   "execution_count": 5,
   "metadata": {},
   "outputs": [
    {
     "output_type": "execute_result",
     "data": {
      "text/plain": "    Unnamed: 0                       City Country    Lat     Lng  Max Temp  \\\n2            2                   Beinamar      TD   8.67   15.38     73.24   \n3            3                     Atuona      PF  -9.80 -139.03     78.82   \n6            6               Puerto Ayora      EC  -0.74  -90.35     78.80   \n7            7                   Ozuluama      MX  21.67  -97.85     84.20   \n12          12  Santa Isabel Do Rio Negro      BR  -0.41  -65.02     81.41   \n14          14                     Tecpan      GT  14.76  -90.99     77.00   \n15          15                      Buala      SB  -8.14  159.59     81.16   \n23          23                        Obo      CF   5.40   26.49     70.54   \n24          24                 Sao Filipe      CV  14.90  -24.50     80.83   \n25          25                   Victoria      HK  22.29  114.16     80.01   \n\n    Humidity  Cloudiness  Wind Speed Current Description  \n2         89          96        2.35     overcast clouds  \n3         75           3       21.94           clear sky  \n6         57          20       18.34          few clouds  \n7         42          20        4.70          few clouds  \n12        92         100        1.63     overcast clouds  \n14        57          40       11.41    scattered clouds  \n15        78          12        8.41          light rain  \n23        91         100        2.89     overcast clouds  \n24        81          43        5.26    scattered clouds  \n25        80          24        1.01          few clouds  ",
      "text/html": "<div>\n<style scoped>\n    .dataframe tbody tr th:only-of-type {\n        vertical-align: middle;\n    }\n\n    .dataframe tbody tr th {\n        vertical-align: top;\n    }\n\n    .dataframe thead th {\n        text-align: right;\n    }\n</style>\n<table border=\"1\" class=\"dataframe\">\n  <thead>\n    <tr style=\"text-align: right;\">\n      <th></th>\n      <th>Unnamed: 0</th>\n      <th>City</th>\n      <th>Country</th>\n      <th>Lat</th>\n      <th>Lng</th>\n      <th>Max Temp</th>\n      <th>Humidity</th>\n      <th>Cloudiness</th>\n      <th>Wind Speed</th>\n      <th>Current Description</th>\n    </tr>\n  </thead>\n  <tbody>\n    <tr>\n      <th>2</th>\n      <td>2</td>\n      <td>Beinamar</td>\n      <td>TD</td>\n      <td>8.67</td>\n      <td>15.38</td>\n      <td>73.24</td>\n      <td>89</td>\n      <td>96</td>\n      <td>2.35</td>\n      <td>overcast clouds</td>\n    </tr>\n    <tr>\n      <th>3</th>\n      <td>3</td>\n      <td>Atuona</td>\n      <td>PF</td>\n      <td>-9.80</td>\n      <td>-139.03</td>\n      <td>78.82</td>\n      <td>75</td>\n      <td>3</td>\n      <td>21.94</td>\n      <td>clear sky</td>\n    </tr>\n    <tr>\n      <th>6</th>\n      <td>6</td>\n      <td>Puerto Ayora</td>\n      <td>EC</td>\n      <td>-0.74</td>\n      <td>-90.35</td>\n      <td>78.80</td>\n      <td>57</td>\n      <td>20</td>\n      <td>18.34</td>\n      <td>few clouds</td>\n    </tr>\n    <tr>\n      <th>7</th>\n      <td>7</td>\n      <td>Ozuluama</td>\n      <td>MX</td>\n      <td>21.67</td>\n      <td>-97.85</td>\n      <td>84.20</td>\n      <td>42</td>\n      <td>20</td>\n      <td>4.70</td>\n      <td>few clouds</td>\n    </tr>\n    <tr>\n      <th>12</th>\n      <td>12</td>\n      <td>Santa Isabel Do Rio Negro</td>\n      <td>BR</td>\n      <td>-0.41</td>\n      <td>-65.02</td>\n      <td>81.41</td>\n      <td>92</td>\n      <td>100</td>\n      <td>1.63</td>\n      <td>overcast clouds</td>\n    </tr>\n    <tr>\n      <th>14</th>\n      <td>14</td>\n      <td>Tecpan</td>\n      <td>GT</td>\n      <td>14.76</td>\n      <td>-90.99</td>\n      <td>77.00</td>\n      <td>57</td>\n      <td>40</td>\n      <td>11.41</td>\n      <td>scattered clouds</td>\n    </tr>\n    <tr>\n      <th>15</th>\n      <td>15</td>\n      <td>Buala</td>\n      <td>SB</td>\n      <td>-8.14</td>\n      <td>159.59</td>\n      <td>81.16</td>\n      <td>78</td>\n      <td>12</td>\n      <td>8.41</td>\n      <td>light rain</td>\n    </tr>\n    <tr>\n      <th>23</th>\n      <td>23</td>\n      <td>Obo</td>\n      <td>CF</td>\n      <td>5.40</td>\n      <td>26.49</td>\n      <td>70.54</td>\n      <td>91</td>\n      <td>100</td>\n      <td>2.89</td>\n      <td>overcast clouds</td>\n    </tr>\n    <tr>\n      <th>24</th>\n      <td>24</td>\n      <td>Sao Filipe</td>\n      <td>CV</td>\n      <td>14.90</td>\n      <td>-24.50</td>\n      <td>80.83</td>\n      <td>81</td>\n      <td>43</td>\n      <td>5.26</td>\n      <td>scattered clouds</td>\n    </tr>\n    <tr>\n      <th>25</th>\n      <td>25</td>\n      <td>Victoria</td>\n      <td>HK</td>\n      <td>22.29</td>\n      <td>114.16</td>\n      <td>80.01</td>\n      <td>80</td>\n      <td>24</td>\n      <td>1.01</td>\n      <td>few clouds</td>\n    </tr>\n  </tbody>\n</table>\n</div>"
     },
     "metadata": {},
     "execution_count": 5
    }
   ],
   "source": [
    "# 3. Filter the city_data_df DataFrame using the input statements to create a new DataFrame using the loc method.\n",
    "preferred_cities_df = city_data_df.loc[(city_data_df[\"Max Temp\"] <= max_temp) & \\\n",
    "                                       (city_data_df[\"Max Temp\"] >= min_temp)]\n",
    "preferred_cities_df.head(10)"
   ]
  },
  {
   "cell_type": "code",
   "execution_count": 6,
   "metadata": {},
   "outputs": [
    {
     "output_type": "execute_result",
     "data": {
      "text/plain": "Unnamed: 0             0\nCity                   0\nCountry                0\nLat                    0\nLng                    0\nMax Temp               0\nHumidity               0\nCloudiness             0\nWind Speed             0\nCurrent Description    0\ndtype: int64"
     },
     "metadata": {},
     "execution_count": 6
    }
   ],
   "source": [
    "# 4a. Determine if there are any empty rows.\n",
    "preferred_cities_df.isnull().sum()"
   ]
  },
  {
   "cell_type": "code",
   "execution_count": 7,
   "metadata": {},
   "outputs": [
    {
     "output_type": "execute_result",
     "data": {
      "text/plain": "Unnamed: 0             298\nCity                   298\nCountry                298\nLat                    298\nLng                    298\nMax Temp               298\nHumidity               298\nCloudiness             298\nWind Speed             298\nCurrent Description    298\ndtype: int64"
     },
     "metadata": {},
     "execution_count": 7
    }
   ],
   "source": [
    "# 4a. Determine if there are any empty rows.\n",
    "preferred_cities_df.count()"
   ]
  },
  {
   "cell_type": "code",
   "execution_count": 8,
   "metadata": {},
   "outputs": [
    {
     "output_type": "execute_result",
     "data": {
      "text/plain": "Unnamed: 0             298\nCity                   298\nCountry                298\nLat                    298\nLng                    298\nMax Temp               298\nHumidity               298\nCloudiness             298\nWind Speed             298\nCurrent Description    298\ndtype: int64"
     },
     "metadata": {},
     "execution_count": 8
    }
   ],
   "source": [
    "# 4b. Drop any empty rows and create a new DataFrame that doesn’t have empty rows.\n",
    "clean_df=preferred_cities_df.dropna().copy()\n",
    "clean_df.count()"
   ]
  },
  {
   "cell_type": "code",
   "execution_count": 9,
   "metadata": {},
   "outputs": [
    {
     "output_type": "execute_result",
     "data": {
      "text/plain": "                         City Country  Max Temp Current Description    Lat  \\\n2                    Beinamar      TD     73.24     overcast clouds   8.67   \n3                      Atuona      PF     78.82           clear sky  -9.80   \n6                Puerto Ayora      EC     78.80          few clouds  -0.74   \n7                    Ozuluama      MX     84.20          few clouds  21.67   \n12  Santa Isabel Do Rio Negro      BR     81.41     overcast clouds  -0.41   \n14                     Tecpan      GT     77.00    scattered clouds  14.76   \n15                      Buala      SB     81.16          light rain  -8.14   \n23                        Obo      CF     70.54     overcast clouds   5.40   \n24                 Sao Filipe      CV     80.83    scattered clouds  14.90   \n25                   Victoria      HK     80.01          few clouds  22.29   \n\n       Lng  Hotel Name  \n2    15.38         NaN  \n3  -139.03         NaN  \n6   -90.35         NaN  \n7   -97.85         NaN  \n12  -65.02         NaN  \n14  -90.99         NaN  \n15  159.59         NaN  \n23   26.49         NaN  \n24  -24.50         NaN  \n25  114.16         NaN  ",
      "text/html": "<div>\n<style scoped>\n    .dataframe tbody tr th:only-of-type {\n        vertical-align: middle;\n    }\n\n    .dataframe tbody tr th {\n        vertical-align: top;\n    }\n\n    .dataframe thead th {\n        text-align: right;\n    }\n</style>\n<table border=\"1\" class=\"dataframe\">\n  <thead>\n    <tr style=\"text-align: right;\">\n      <th></th>\n      <th>City</th>\n      <th>Country</th>\n      <th>Max Temp</th>\n      <th>Current Description</th>\n      <th>Lat</th>\n      <th>Lng</th>\n      <th>Hotel Name</th>\n    </tr>\n  </thead>\n  <tbody>\n    <tr>\n      <th>2</th>\n      <td>Beinamar</td>\n      <td>TD</td>\n      <td>73.24</td>\n      <td>overcast clouds</td>\n      <td>8.67</td>\n      <td>15.38</td>\n      <td>NaN</td>\n    </tr>\n    <tr>\n      <th>3</th>\n      <td>Atuona</td>\n      <td>PF</td>\n      <td>78.82</td>\n      <td>clear sky</td>\n      <td>-9.80</td>\n      <td>-139.03</td>\n      <td>NaN</td>\n    </tr>\n    <tr>\n      <th>6</th>\n      <td>Puerto Ayora</td>\n      <td>EC</td>\n      <td>78.80</td>\n      <td>few clouds</td>\n      <td>-0.74</td>\n      <td>-90.35</td>\n      <td>NaN</td>\n    </tr>\n    <tr>\n      <th>7</th>\n      <td>Ozuluama</td>\n      <td>MX</td>\n      <td>84.20</td>\n      <td>few clouds</td>\n      <td>21.67</td>\n      <td>-97.85</td>\n      <td>NaN</td>\n    </tr>\n    <tr>\n      <th>12</th>\n      <td>Santa Isabel Do Rio Negro</td>\n      <td>BR</td>\n      <td>81.41</td>\n      <td>overcast clouds</td>\n      <td>-0.41</td>\n      <td>-65.02</td>\n      <td>NaN</td>\n    </tr>\n    <tr>\n      <th>14</th>\n      <td>Tecpan</td>\n      <td>GT</td>\n      <td>77.00</td>\n      <td>scattered clouds</td>\n      <td>14.76</td>\n      <td>-90.99</td>\n      <td>NaN</td>\n    </tr>\n    <tr>\n      <th>15</th>\n      <td>Buala</td>\n      <td>SB</td>\n      <td>81.16</td>\n      <td>light rain</td>\n      <td>-8.14</td>\n      <td>159.59</td>\n      <td>NaN</td>\n    </tr>\n    <tr>\n      <th>23</th>\n      <td>Obo</td>\n      <td>CF</td>\n      <td>70.54</td>\n      <td>overcast clouds</td>\n      <td>5.40</td>\n      <td>26.49</td>\n      <td>NaN</td>\n    </tr>\n    <tr>\n      <th>24</th>\n      <td>Sao Filipe</td>\n      <td>CV</td>\n      <td>80.83</td>\n      <td>scattered clouds</td>\n      <td>14.90</td>\n      <td>-24.50</td>\n      <td>NaN</td>\n    </tr>\n    <tr>\n      <th>25</th>\n      <td>Victoria</td>\n      <td>HK</td>\n      <td>80.01</td>\n      <td>few clouds</td>\n      <td>22.29</td>\n      <td>114.16</td>\n      <td>NaN</td>\n    </tr>\n  </tbody>\n</table>\n</div>"
     },
     "metadata": {},
     "execution_count": 9
    }
   ],
   "source": [
    "# 5a. Create DataFrame called hotel_df to store hotel names along with city, country, max temp, and coordinates.\n",
    "hotel_df = clean_df[[\"City\", \"Country\", \"Max Temp\", \"Current Description\", \"Lat\", \"Lng\"]].copy()\n",
    "\n",
    "# 5b. Create a new column \"Hotel Name\"\n",
    "import numpy as np\n",
    "hotel_df[\"Hotel Name\"] = np.nan\n",
    "hotel_df.head(10)"
   ]
  },
  {
   "cell_type": "code",
   "execution_count": 10,
   "metadata": {
    "tags": []
   },
   "outputs": [
    {
     "output_type": "stream",
     "name": "stdout",
     "text": "Hotel not found... skipping.\nHotel not found... skipping.\nHotel not found... skipping.\nHotel not found... skipping.\nHotel not found... skipping.\nHotel not found... skipping.\nHotel not found... skipping.\nHotel not found... skipping.\nHotel not found... skipping.\nHotel not found... skipping.\nHotel not found... skipping.\nHotel not found... skipping.\nHotel not found... skipping.\nHotel not found... skipping.\nHotel not found... skipping.\nHotel not found... skipping.\nHotel not found... skipping.\nHotel not found... skipping.\nHotel not found... skipping.\nHotel not found... skipping.\nHotel not found... skipping.\nHotel not found... skipping.\n"
    }
   ],
   "source": [
    "# 6a. Set parameters to search for hotels with 5000 meters.\n",
    "params = {\n",
    "    \"radius\": 5000,\n",
    "    \"type\": \"lodging\",\n",
    "    \"key\": g_key\n",
    "}\n",
    "\n",
    "# 6b. Iterate through the hotel DataFrame.\n",
    "for index, row in hotel_df.iterrows():\n",
    "\n",
    "    # 6c. Get latitude and longitude from DataFrame\n",
    "    lat = row[\"Lat\"]\n",
    "    lng = row[\"Lng\"]\n",
    "     \n",
    "     # Add the latitude and longitude to location key for the params dictionary.\n",
    "    params[\"location\"] = f\"{lat},{lng}\"\n",
    "   \n",
    "    # 6d. Set up the base URL for the Google Directions API to get JSON data.\n",
    "    base_url = \"https://maps.googleapis.com/maps/api/place/nearbysearch/json\"\n",
    "\n",
    "    # 6e. Make request and retrieve the JSON data from the search. \n",
    "    hotels = requests.get(base_url, params=params).json()\n",
    "    \n",
    "    # 6f. Get the first hotel from the results and store the name, if a hotel isn't found skip the city.\n",
    "    try:\n",
    "        hotel_df.loc[index, \"Hotel Name\"] = hotels[\"results\"][0][\"name\"]\n",
    "    except (IndexError):\n",
    "        print(\"Hotel not found... skipping.\")\n",
    "        "
   ]
  },
  {
   "cell_type": "code",
   "execution_count": 11,
   "metadata": {},
   "outputs": [
    {
     "output_type": "execute_result",
     "data": {
      "text/plain": "City                   298\nCountry                298\nMax Temp               298\nCurrent Description    298\nLat                    298\nLng                    298\nHotel Name             276\ndtype: int64"
     },
     "metadata": {},
     "execution_count": 11
    }
   ],
   "source": [
    "hotel_df.count()"
   ]
  },
  {
   "cell_type": "code",
   "execution_count": 12,
   "metadata": {},
   "outputs": [
    {
     "output_type": "execute_result",
     "data": {
      "text/plain": "City                   276\nCountry                276\nMax Temp               276\nCurrent Description    276\nLat                    276\nLng                    276\nHotel Name             276\ndtype: int64"
     },
     "metadata": {},
     "execution_count": 12
    }
   ],
   "source": [
    "# 7. Drop the rows where there is no Hotel Name.\n",
    "clean_hotel_df=hotel_df.dropna().copy()\n",
    "clean_hotel_df.count()\n"
   ]
  },
  {
   "cell_type": "code",
   "execution_count": 13,
   "metadata": {},
   "outputs": [],
   "source": [
    "# 8a. Create the output File (CSV)\n",
    "output_data_file = \"WeatherPy_vacation.csv\"\n",
    "# 8b. Export the City_Data into a csv\n",
    "clean_hotel_df.to_csv(output_data_file, index_label=\"City_ID\")"
   ]
  },
  {
   "cell_type": "code",
   "execution_count": 14,
   "metadata": {},
   "outputs": [
    {
     "output_type": "execute_result",
     "data": {
      "text/plain": "   City_ID                       City Country  Max Temp Current Description  \\\n0        3                     Atuona      PF     78.82           clear sky   \n1        6               Puerto Ayora      EC     78.80          few clouds   \n2        7                   Ozuluama      MX     84.20          few clouds   \n3       12  Santa Isabel Do Rio Negro      BR     81.41     overcast clouds   \n4       14                     Tecpan      GT     77.00    scattered clouds   \n\n     Lat     Lng                       Hotel Name  \n0  -9.80 -139.03                      Villa Enata  \n1  -0.74  -90.35        Finch Bay Galapagos Hotel  \n2  21.67  -97.85                      Pailon Quil  \n3  -0.41  -65.02                        Hotel GSA  \n4  14.76  -90.99  San Ricardo Restaurante y Hotel  ",
      "text/html": "<div>\n<style scoped>\n    .dataframe tbody tr th:only-of-type {\n        vertical-align: middle;\n    }\n\n    .dataframe tbody tr th {\n        vertical-align: top;\n    }\n\n    .dataframe thead th {\n        text-align: right;\n    }\n</style>\n<table border=\"1\" class=\"dataframe\">\n  <thead>\n    <tr style=\"text-align: right;\">\n      <th></th>\n      <th>City_ID</th>\n      <th>City</th>\n      <th>Country</th>\n      <th>Max Temp</th>\n      <th>Current Description</th>\n      <th>Lat</th>\n      <th>Lng</th>\n      <th>Hotel Name</th>\n    </tr>\n  </thead>\n  <tbody>\n    <tr>\n      <th>0</th>\n      <td>3</td>\n      <td>Atuona</td>\n      <td>PF</td>\n      <td>78.82</td>\n      <td>clear sky</td>\n      <td>-9.80</td>\n      <td>-139.03</td>\n      <td>Villa Enata</td>\n    </tr>\n    <tr>\n      <th>1</th>\n      <td>6</td>\n      <td>Puerto Ayora</td>\n      <td>EC</td>\n      <td>78.80</td>\n      <td>few clouds</td>\n      <td>-0.74</td>\n      <td>-90.35</td>\n      <td>Finch Bay Galapagos Hotel</td>\n    </tr>\n    <tr>\n      <th>2</th>\n      <td>7</td>\n      <td>Ozuluama</td>\n      <td>MX</td>\n      <td>84.20</td>\n      <td>few clouds</td>\n      <td>21.67</td>\n      <td>-97.85</td>\n      <td>Pailon Quil</td>\n    </tr>\n    <tr>\n      <th>3</th>\n      <td>12</td>\n      <td>Santa Isabel Do Rio Negro</td>\n      <td>BR</td>\n      <td>81.41</td>\n      <td>overcast clouds</td>\n      <td>-0.41</td>\n      <td>-65.02</td>\n      <td>Hotel GSA</td>\n    </tr>\n    <tr>\n      <th>4</th>\n      <td>14</td>\n      <td>Tecpan</td>\n      <td>GT</td>\n      <td>77.00</td>\n      <td>scattered clouds</td>\n      <td>14.76</td>\n      <td>-90.99</td>\n      <td>San Ricardo Restaurante y Hotel</td>\n    </tr>\n  </tbody>\n</table>\n</div>"
     },
     "metadata": {},
     "execution_count": 14
    }
   ],
   "source": [
    "clean_hotel_df = pd.read_csv(\"WeatherPy_vacation.csv\")\n",
    "clean_hotel_df.set_index(\"City_ID\")\n",
    "clean_hotel_df.head()"
   ]
  },
  {
   "cell_type": "code",
   "execution_count": 15,
   "metadata": {},
   "outputs": [],
   "source": [
    "# 9. Using the template add city name, the country code, the weather description and maximum temperature for the city.\n",
    "info_box_template = \"\"\"\n",
    "<dl>\n",
    "<dt>Hotel Name</dt><dd>{Hotel Name}</dd>\n",
    "<dt>City</dt><dd>{City}</dd>\n",
    "<dt>Country</dt><dd>{Country}</dd>\n",
    "<dt>Weather description</dt><dd>{Current Description}</dd>\n",
    "<dt>Maximumm Temperature</dt><dd>{Max Temp} °F</dd>\n",
    "</dl>\n",
    "\"\"\"\n",
    "\n",
    "# 10a. Get the data from each row and add it to the formatting template and store the data in a list.\n",
    "hotel_info = [info_box_template.format(**row) for index, row in clean_hotel_df.iterrows()]\n",
    "\n",
    "# 10b. Get the latitude and longitude from each row and store in a new DataFrame.\n",
    "locations = clean_hotel_df[[\"Lat\", \"Lng\"]]"
   ]
  },
  {
   "cell_type": "code",
   "execution_count": 16,
   "metadata": {},
   "outputs": [
    {
     "output_type": "display_data",
     "data": {
      "text/plain": "Figure(layout=FigureLayout(height=&#39;420px&#39;))",
      "application/vnd.jupyter.widget-view+json": {
       "version_major": 2,
       "version_minor": 0,
       "model_id": "688c051d35a24445bb01e853b3611866"
      }
     },
     "metadata": {}
    }
   ],
   "source": [
    "# 11a. Add a marker layer for each city to the map. \n",
    "fig = gmaps.figure(center=(30.0, 31.0), zoom_level=1.5)\n",
    "marker_layer = gmaps.marker_layer(locations, info_box_content=hotel_info)\n",
    "fig.add_layer(marker_layer)\n",
    "\n",
    "# 11b. Display the figure\n",
    "fig"
   ]
  },
  {
   "cell_type": "code",
   "execution_count": null,
   "metadata": {},
   "outputs": [],
   "source": []
  }
 ],
 "metadata": {
  "kernelspec": {
   "name": "Python 3.8.3 64-bit ('data-class': conda)",
   "display_name": "Python 3.8.3 64-bit ('data-class': conda)",
   "metadata": {
    "interpreter": {
     "hash": "7120a23fc26abddbafebc0bee5682270bf71b835715bde0976598b0091d397ea"
    }
   }
  },
  "language_info": {
   "codemirror_mode": {
    "name": "ipython",
    "version": 3
   },
   "file_extension": ".py",
   "mimetype": "text/x-python",
   "name": "python",
   "nbconvert_exporter": "python",
   "pygments_lexer": "ipython3",
   "version": "3.8.3-final"
  },
  "latex_envs": {
   "LaTeX_envs_menu_present": true,
   "autoclose": false,
   "autocomplete": true,
   "bibliofile": "biblio.bib",
   "cite_by": "apalike",
   "current_citInitial": 1,
   "eqLabelWithNumbers": true,
   "eqNumInitial": 1,
   "hotkeys": {
    "equation": "Ctrl-E",
    "itemize": "Ctrl-I"
   },
   "labels_anchors": false,
   "latex_user_defs": false,
   "report_style_numbering": false,
   "user_envs_cfg": false
  }
 },
 "nbformat": 4,
 "nbformat_minor": 2
}