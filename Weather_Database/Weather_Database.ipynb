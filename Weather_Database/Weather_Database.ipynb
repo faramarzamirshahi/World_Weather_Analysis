{
 "metadata": {
  "language_info": {
   "codemirror_mode": {
    "name": "ipython",
    "version": 3
   },
   "file_extension": ".py",
   "mimetype": "text/x-python",
   "name": "python",
   "nbconvert_exporter": "python",
   "pygments_lexer": "ipython3",
   "version": "3.8.3-final"
  },
  "orig_nbformat": 2,
  "kernelspec": {
   "name": "python3",
   "display_name": "Python 3"
  }
 },
 "nbformat": 4,
 "nbformat_minor": 2,
 "cells": [
  {
   "cell_type": "code",
   "execution_count": 1,
   "metadata": {},
   "outputs": [],
   "source": [
    "# Import the dependencies.\n",
    "import pandas as pd\n",
    "import matplotlib.pyplot as plt\n",
    "import numpy as np"
   ]
  },
  {
   "cell_type": "code",
   "execution_count": 2,
   "metadata": {},
   "outputs": [
    {
     "output_type": "execute_result",
     "data": {
      "text/plain": "&lt;zip at 0x1b2fd71e0c0&gt;"
     },
     "metadata": {},
     "execution_count": 2
    }
   ],
   "source": [
    "#3 Create a new set of 2,000 random latitudes and longitudes.\n",
    "lats = np.random.uniform(low=-90.000, high=90.000, size=2000)\n",
    "lngs = np.random.uniform(low=-180.000, high=180.000, size=2000)\n",
    "lat_lngs = zip(lats, lngs)\n",
    "lat_lngs"
   ]
  },
  {
   "cell_type": "code",
   "execution_count": 3,
   "metadata": {},
   "outputs": [],
   "source": [
    "# Use the citipy module to determine city based on latitude and longitude.\n",
    "from citipy import citipy"
   ]
  },
  {
   "cell_type": "code",
   "execution_count": 4,
   "metadata": {},
   "outputs": [],
   "source": [
    "# Add the latitudes and longitudes to a list.\n",
    "coordinates = list(lat_lngs)"
   ]
  },
  {
   "cell_type": "code",
   "execution_count": 5,
   "metadata": {},
   "outputs": [
    {
     "output_type": "execute_result",
     "data": {
      "text/plain": "[(-80.05664800759803, -99.39081681402558),\n (-80.57399088516917, -65.15990013356446),\n (8.899376988194106, 15.134023695399748),\n (2.2105693294102196, -148.82072039342032),\n (21.21749957048749, 3.286231158244618),\n (-32.287426074467255, 170.43211347475676),\n (-3.319391699593865, -108.74725270900575),\n (21.760585169507422, -97.5820418507543),\n (-40.64674351572602, -1.2800296505555195),\n (-29.648190464732494, -91.50889995579286)]"
     },
     "metadata": {},
     "execution_count": 5
    }
   ],
   "source": [
    "coordinates[:10]"
   ]
  },
  {
   "cell_type": "code",
   "execution_count": 6,
   "metadata": {},
   "outputs": [
    {
     "output_type": "execute_result",
     "data": {
      "text/plain": "775"
     },
     "metadata": {},
     "execution_count": 6
    }
   ],
   "source": [
    "#4 Create a list for holding the cities.\n",
    "cities = []\n",
    "# Identify the nearest city for each latitude and longitude combination.\n",
    "for coordinate in coordinates:\n",
    "    city = citipy.nearest_city(coordinate[0], coordinate[1]).city_name\n",
    "\n",
    "    # If the city is unique, then we will add it to the cities list.\n",
    "    if city not in cities:\n",
    "        cities.append(city)\n",
    "# Print the city count to confirm sufficient count.\n",
    "len(cities)"
   ]
  },
  {
   "cell_type": "code",
   "execution_count": 7,
   "metadata": {
    "tags": []
   },
   "outputs": [],
   "source": [
    "# Import the requests library.\n",
    "import requests\n",
    "import sys\n",
    "\n",
    "# to reference config.py\n",
    "sys.path.append('../')\n",
    "\n",
    "# Import the API key.\n",
    "from config import weather_api_key"
   ]
  },
  {
   "cell_type": "code",
   "execution_count": 8,
   "metadata": {},
   "outputs": [],
   "source": [
    "# Starting URL for Weather Map API Call.\n",
    "url = f\"http://api.openweathermap.org/data/2.5/weather?units=Imperial&APPID={weather_api_key}\" "
   ]
  },
  {
   "cell_type": "code",
   "execution_count": 9,
   "metadata": {},
   "outputs": [],
   "source": [
    "# Import the datetime module from the datetime library.\n",
    "from datetime import datetime"
   ]
  },
  {
   "source": [
    "## Retrieve the following information from the API call:\n",
    "\n",
    "<br>Latitude and longitude\n",
    "<br>Maximum temperature\n",
    "<br>Percent humidity\n",
    "<br>Percent cloudiness\n",
    "<br>Wind speed\n",
    "<br>Weather description (for example, clouds, fog, light rain, clear sky)"
   ],
   "cell_type": "markdown",
   "metadata": {}
  },
  {
   "cell_type": "code",
   "execution_count": 10,
   "metadata": {
    "tags": [
     "outputPrepend"
    ]
   },
   "outputs": [
    {
     "output_type": "stream",
     "name": "stdout",
     "text": "ng...\nhttp://api.openweathermap.org/data/2.5/weather?units=Imperial&amp;APPID=9d68e269e3006664cdbbf646eecf0f78&amp;q=sorvag\n&#39;coord&#39;\nProcessing Record 10 of Set 9 | puerto colombia\nProcessing Record 11 of Set 9 | kyzyl-suu\nProcessing Record 12 of Set 9 | esmoriz\nProcessing Record 13 of Set 9 | nanortalik\nProcessing Record 14 of Set 9 | leningradskiy\nProcessing Record 15 of Set 9 | san cristobal\nProcessing Record 16 of Set 9 | kampot\nProcessing Record 17 of Set 9 | jiayuguan\nProcessing Record 18 of Set 9 | nuevo progreso\nProcessing Record 19 of Set 9 | ngunguru\nProcessing Record 20 of Set 9 | almaznyy\nProcessing Record 21 of Set 9 | mirzapur\nProcessing Record 22 of Set 9 | tabou\nProcessing Record 23 of Set 9 | san jeronimo\nProcessing Record 24 of Set 9 | nioki\nProcessing Record 25 of Set 9 | alice\nProcessing Record 26 of Set 9 | pangoa\nProcessing Record 27 of Set 9 | road town\nProcessing Record 28 of Set 9 | gandu\nProcessing Record 29 of Set 9 | sneek\nProcessing Record 30 of Set 9 | lompoc\nProcessing Record 31 of Set 9 | lebanon\nProcessing Record 32 of Set 9 | toowoomba\nProcessing Record 33 of Set 9 | rosa zarate\nProcessing Record 34 of Set 9 | tanggu\nProcessing Record 35 of Set 9 | bartica\nProcessing Record 36 of Set 9 | sinnamary\nProcessing Record 37 of Set 9 | egvekinot\nProcessing Record 38 of Set 9 | belaya gora\nProcessing Record 39 of Set 9 | longlac\nCity not found. Skipping...\nhttp://api.openweathermap.org/data/2.5/weather?units=Imperial&amp;APPID=9d68e269e3006664cdbbf646eecf0f78&amp;q=longlac\n&#39;coord&#39;\nProcessing Record 40 of Set 9 | cururupu\nProcessing Record 41 of Set 9 | amderma\nCity not found. Skipping...\nhttp://api.openweathermap.org/data/2.5/weather?units=Imperial&amp;APPID=9d68e269e3006664cdbbf646eecf0f78&amp;q=amderma\n&#39;coord&#39;\nProcessing Record 42 of Set 9 | taltal\nProcessing Record 43 of Set 9 | el alto\nProcessing Record 44 of Set 9 | maua\nProcessing Record 45 of Set 9 | georgetown\nProcessing Record 46 of Set 9 | warmbad\nProcessing Record 47 of Set 9 | vernon\nProcessing Record 48 of Set 9 | karamea\nCity not found. Skipping...\nhttp://api.openweathermap.org/data/2.5/weather?units=Imperial&amp;APPID=9d68e269e3006664cdbbf646eecf0f78&amp;q=karamea\n&#39;coord&#39;\nProcessing Record 49 of Set 9 | xam nua\nProcessing Record 50 of Set 9 | nola\nProcessing Record 1 of Set 10 | kupang\nProcessing Record 2 of Set 10 | stephenville\nProcessing Record 3 of Set 10 | hatillo\nProcessing Record 4 of Set 10 | lingao\nProcessing Record 5 of Set 10 | bokspits\nCity not found. Skipping...\nhttp://api.openweathermap.org/data/2.5/weather?units=Imperial&amp;APPID=9d68e269e3006664cdbbf646eecf0f78&amp;q=bokspits\n&#39;coord&#39;\nProcessing Record 6 of Set 10 | hoopstad\nProcessing Record 7 of Set 10 | athabasca\nProcessing Record 8 of Set 10 | trelew\nProcessing Record 9 of Set 10 | kanker\nProcessing Record 10 of Set 10 | bonthe\nProcessing Record 11 of Set 10 | chifeng\nProcessing Record 12 of Set 10 | kavaratti\nProcessing Record 13 of Set 10 | fort morgan\nProcessing Record 14 of Set 10 | idlib\nProcessing Record 15 of Set 10 | gidam\nProcessing Record 16 of Set 10 | santarem\nProcessing Record 17 of Set 10 | vila franca do campo\nProcessing Record 18 of Set 10 | esmeraldas\nProcessing Record 19 of Set 10 | svobodnyy\nProcessing Record 20 of Set 10 | harper\nProcessing Record 21 of Set 10 | rungata\nCity not found. Skipping...\nhttp://api.openweathermap.org/data/2.5/weather?units=Imperial&amp;APPID=9d68e269e3006664cdbbf646eecf0f78&amp;q=rungata\n&#39;coord&#39;\nProcessing Record 22 of Set 10 | hirara\nProcessing Record 23 of Set 10 | lakes entrance\nProcessing Record 24 of Set 10 | comodoro rivadavia\nProcessing Record 25 of Set 10 | mehamn\nProcessing Record 26 of Set 10 | grimshaw\nProcessing Record 27 of Set 10 | san vicente\nProcessing Record 28 of Set 10 | half moon bay\nProcessing Record 29 of Set 10 | bilma\nProcessing Record 30 of Set 10 | ugoofaaru\nProcessing Record 31 of Set 10 | sumenep\nProcessing Record 32 of Set 10 | aflu\nCity not found. Skipping...\nhttp://api.openweathermap.org/data/2.5/weather?units=Imperial&amp;APPID=9d68e269e3006664cdbbf646eecf0f78&amp;q=aflu\n&#39;coord&#39;\nProcessing Record 33 of Set 10 | itaituba\nProcessing Record 34 of Set 10 | berwick\nProcessing Record 35 of Set 10 | karratha\nProcessing Record 36 of Set 10 | palana\nProcessing Record 37 of Set 10 | coos bay\nProcessing Record 38 of Set 10 | lago da pedra\nProcessing Record 39 of Set 10 | itacare\nProcessing Record 40 of Set 10 | salgar\nProcessing Record 41 of Set 10 | shache\nProcessing Record 42 of Set 10 | khorinsk\nProcessing Record 43 of Set 10 | touros\nProcessing Record 44 of Set 10 | balkanabat\nProcessing Record 45 of Set 10 | yulara\nProcessing Record 46 of Set 10 | eenhana\nProcessing Record 47 of Set 10 | pujehun\nProcessing Record 48 of Set 10 | shiraz\nProcessing Record 49 of Set 10 | slave lake\nProcessing Record 50 of Set 10 | hambantota\nProcessing Record 1 of Set 11 | abasolo\nProcessing Record 2 of Set 11 | yenagoa\nProcessing Record 3 of Set 11 | sobinka\nProcessing Record 4 of Set 11 | aitape\nProcessing Record 5 of Set 11 | manzanillo\nProcessing Record 6 of Set 11 | tura\nProcessing Record 7 of Set 11 | sur\nProcessing Record 8 of Set 11 | port macquarie\nProcessing Record 9 of Set 11 | salon-de-provence\nProcessing Record 10 of Set 11 | aloleng\nProcessing Record 11 of Set 11 | clyde river\nProcessing Record 12 of Set 11 | mitchell\nProcessing Record 13 of Set 11 | mitu\nProcessing Record 14 of Set 11 | beloha\nProcessing Record 15 of Set 11 | kiunga\nProcessing Record 16 of Set 11 | bermeo\nProcessing Record 17 of Set 11 | gurgan\nCity not found. Skipping...\nhttp://api.openweathermap.org/data/2.5/weather?units=Imperial&amp;APPID=9d68e269e3006664cdbbf646eecf0f78&amp;q=gurgan\n&#39;coord&#39;\nProcessing Record 18 of Set 11 | goderich\nProcessing Record 19 of Set 11 | bubaque\nProcessing Record 20 of Set 11 | linkuva\nProcessing Record 21 of Set 11 | vila\nProcessing Record 22 of Set 11 | kalomo\nCity not found. Skipping...\nhttp://api.openweathermap.org/data/2.5/weather?units=Imperial&amp;APPID=9d68e269e3006664cdbbf646eecf0f78&amp;q=kalomo\n&#39;coord&#39;\nProcessing Record 23 of Set 11 | manyana\nProcessing Record 24 of Set 11 | pipri\nProcessing Record 25 of Set 11 | callaway\nProcessing Record 26 of Set 11 | broome\nProcessing Record 27 of Set 11 | henties bay\nProcessing Record 28 of Set 11 | grand gaube\nProcessing Record 29 of Set 11 | kazanskoye\nProcessing Record 30 of Set 11 | garowe\nProcessing Record 31 of Set 11 | kargat\nProcessing Record 32 of Set 11 | natal\nProcessing Record 33 of Set 11 | asau\nProcessing Record 34 of Set 11 | alta floresta\nProcessing Record 35 of Set 11 | darasun\nProcessing Record 36 of Set 11 | cayenne\nProcessing Record 37 of Set 11 | riviere-au-renard\nProcessing Record 38 of Set 11 | adrar\nProcessing Record 39 of Set 11 | anaconda\nProcessing Record 40 of Set 11 | atkinson\nProcessing Record 41 of Set 11 | zhucheng\nProcessing Record 42 of Set 11 | kismayo\nProcessing Record 43 of Set 11 | salinopolis\nProcessing Record 44 of Set 11 | choix\nProcessing Record 45 of Set 11 | prince rupert\nProcessing Record 46 of Set 11 | kalengwa\nProcessing Record 47 of Set 11 | laguna\nProcessing Record 48 of Set 11 | tabiauea\nCity not found. Skipping...\nhttp://api.openweathermap.org/data/2.5/weather?units=Imperial&amp;APPID=9d68e269e3006664cdbbf646eecf0f78&amp;q=tabiauea\n&#39;coord&#39;\nProcessing Record 49 of Set 11 | samarai\nProcessing Record 50 of Set 11 | surgut\nProcessing Record 1 of Set 12 | kurilsk\nProcessing Record 2 of Set 12 | oriximina\nProcessing Record 3 of Set 12 | zlotow\nProcessing Record 4 of Set 12 | umba\nProcessing Record 5 of Set 12 | myrtle beach\nProcessing Record 6 of Set 12 | seoul\nProcessing Record 7 of Set 12 | churapcha\nProcessing Record 8 of Set 12 | udachnyy\nProcessing Record 9 of Set 12 | vaitape\nProcessing Record 10 of Set 12 | estelle\nProcessing Record 11 of Set 12 | elmira\nProcessing Record 12 of Set 12 | port-gentil\nProcessing Record 13 of Set 12 | dombarovskiy\nProcessing Record 14 of Set 12 | ilebo\nProcessing Record 15 of Set 12 | gat\nProcessing Record 16 of Set 12 | soyo\nProcessing Record 17 of Set 12 | nabire\nProcessing Record 18 of Set 12 | bairiki\nProcessing Record 19 of Set 12 | chimore\nProcessing Record 20 of Set 12 | kuching\nProcessing Record 21 of Set 12 | sale\nProcessing Record 22 of Set 12 | aquiles serdan\nProcessing Record 23 of Set 12 | bastia\nProcessing Record 24 of Set 12 | palabuhanratu\nCity not found. Skipping...\nhttp://api.openweathermap.org/data/2.5/weather?units=Imperial&amp;APPID=9d68e269e3006664cdbbf646eecf0f78&amp;q=palabuhanratu\n&#39;coord&#39;\nProcessing Record 25 of Set 12 | brownsville\nProcessing Record 26 of Set 12 | wulanhaote\nCity not found. Skipping...\nhttp://api.openweathermap.org/data/2.5/weather?units=Imperial&amp;APPID=9d68e269e3006664cdbbf646eecf0f78&amp;q=wulanhaote\n&#39;coord&#39;\nProcessing Record 27 of Set 12 | tuktoyaktuk\nProcessing Record 28 of Set 12 | gaya\nProcessing Record 29 of Set 12 | bolshaya chernigovka\nCity not found. Skipping...\nhttp://api.openweathermap.org/data/2.5/weather?units=Imperial&amp;APPID=9d68e269e3006664cdbbf646eecf0f78&amp;q=bolshaya+chernigovka\n&#39;coord&#39;\nProcessing Record 30 of Set 12 | rawson\nProcessing Record 31 of Set 12 | belmonte\nProcessing Record 32 of Set 12 | petauke\nProcessing Record 33 of Set 12 | sayat\nProcessing Record 34 of Set 12 | ust-ilimsk\nProcessing Record 35 of Set 12 | port keats\nProcessing Record 36 of Set 12 | demyansk\nProcessing Record 37 of Set 12 | marang\nProcessing Record 38 of Set 12 | saint-georges\nProcessing Record 39 of Set 12 | meyungs\nCity not found. Skipping...\nhttp://api.openweathermap.org/data/2.5/weather?units=Imperial&amp;APPID=9d68e269e3006664cdbbf646eecf0f78&amp;q=meyungs\n&#39;coord&#39;\nProcessing Record 40 of Set 12 | dharchula\nProcessing Record 41 of Set 12 | wilmington\nProcessing Record 42 of Set 12 | wanning\nProcessing Record 43 of Set 12 | lensk\nProcessing Record 44 of Set 12 | port blair\nProcessing Record 45 of Set 12 | monduli\nProcessing Record 46 of Set 12 | purranque\nProcessing Record 47 of Set 12 | kousseri\nProcessing Record 48 of Set 12 | armacao dos buzios\nCity not found. Skipping...\nhttp://api.openweathermap.org/data/2.5/weather?units=Imperial&amp;APPID=9d68e269e3006664cdbbf646eecf0f78&amp;q=armacao+dos+buzios\n&#39;coord&#39;\nProcessing Record 49 of Set 12 | tarasovskiy\nProcessing Record 50 of Set 12 | aklavik\nProcessing Record 1 of Set 13 | havre-saint-pierre\nProcessing Record 2 of Set 13 | bowen\nProcessing Record 3 of Set 13 | hervey bay\nProcessing Record 4 of Set 13 | ojinaga\nProcessing Record 5 of Set 13 | saint john\nProcessing Record 6 of Set 13 | nouadhibou\nProcessing Record 7 of Set 13 | visnes\nProcessing Record 8 of Set 13 | kudahuvadhoo\nProcessing Record 9 of Set 13 | iberia\nProcessing Record 10 of Set 13 | shitkino\nProcessing Record 11 of Set 13 | namibe\nProcessing Record 12 of Set 13 | simplicio mendes\nProcessing Record 13 of Set 13 | warqla\nCity not found. Skipping...\nhttp://api.openweathermap.org/data/2.5/weather?units=Imperial&amp;APPID=9d68e269e3006664cdbbf646eecf0f78&amp;q=warqla\n&#39;coord&#39;\nProcessing Record 14 of Set 13 | kruisfontein\nProcessing Record 15 of Set 13 | alekseyevsk\nProcessing Record 16 of Set 13 | mogok\nProcessing Record 17 of Set 13 | severnyy\nProcessing Record 18 of Set 13 | san matias\nProcessing Record 19 of Set 13 | tubruq\nCity not found. Skipping...\nhttp://api.openweathermap.org/data/2.5/weather?units=Imperial&amp;APPID=9d68e269e3006664cdbbf646eecf0f78&amp;q=tubruq\n&#39;coord&#39;\nProcessing Record 20 of Set 13 | libreville\nProcessing Record 21 of Set 13 | trenggalek\nProcessing Record 22 of Set 13 | mrirt\nCity not found. Skipping...\nhttp://api.openweathermap.org/data/2.5/weather?units=Imperial&amp;APPID=9d68e269e3006664cdbbf646eecf0f78&amp;q=mrirt\n&#39;coord&#39;\nProcessing Record 23 of Set 13 | tutoia\nProcessing Record 24 of Set 13 | dauphin\nProcessing Record 25 of Set 13 | jalu\nProcessing Record 26 of Set 13 | guanhaes\nProcessing Record 27 of Set 13 | obera\nProcessing Record 28 of Set 13 | ahuimanu\nProcessing Record 29 of Set 13 | tuatapere\nProcessing Record 30 of Set 13 | derzhavinsk\nProcessing Record 31 of Set 13 | izhevskoye\nProcessing Record 32 of Set 13 | husavik\nProcessing Record 33 of Set 13 | kontagora\nProcessing Record 34 of Set 13 | dujuma\nCity not found. Skipping...\nhttp://api.openweathermap.org/data/2.5/weather?units=Imperial&amp;APPID=9d68e269e3006664cdbbf646eecf0f78&amp;q=dujuma\n&#39;coord&#39;\nProcessing Record 35 of Set 13 | cap malheureux\nProcessing Record 36 of Set 13 | jayanca\nProcessing Record 37 of Set 13 | recas\nProcessing Record 38 of Set 13 | bandarbeyla\nProcessing Record 39 of Set 13 | san antonio\nProcessing Record 40 of Set 13 | plock\nProcessing Record 41 of Set 13 | camabatela\nProcessing Record 42 of Set 13 | marsala\nProcessing Record 43 of Set 13 | anloga\nProcessing Record 44 of Set 13 | kieta\nProcessing Record 45 of Set 13 | biltine\nProcessing Record 46 of Set 13 | alyangula\nProcessing Record 47 of Set 13 | jumla\nProcessing Record 48 of Set 13 | sabha\nProcessing Record 49 of Set 13 | aswan\nProcessing Record 50 of Set 13 | vila velha\nProcessing Record 1 of Set 14 | marsa matruh\nProcessing Record 2 of Set 14 | nizhniy kuranakh\nProcessing Record 3 of Set 14 | padang\nProcessing Record 4 of Set 14 | murray\nProcessing Record 5 of Set 14 | bonnyville\nProcessing Record 6 of Set 14 | pringsewu\nProcessing Record 7 of Set 14 | lanigan\nProcessing Record 8 of Set 14 | noshiro\nProcessing Record 9 of Set 14 | svetlaya\nProcessing Record 10 of Set 14 | kopavogur\nProcessing Record 11 of Set 14 | bushenyi\nProcessing Record 12 of Set 14 | matamoros\nProcessing Record 13 of Set 14 | bria\nProcessing Record 14 of Set 14 | split\nProcessing Record 15 of Set 14 | floro\nProcessing Record 16 of Set 14 | alekseyevskoye\nProcessing Record 17 of Set 14 | jishou\nProcessing Record 18 of Set 14 | kaka\nProcessing Record 19 of Set 14 | iquique\nProcessing Record 20 of Set 14 | oeiras\nProcessing Record 21 of Set 14 | poso\nProcessing Record 22 of Set 14 | tateyama\nProcessing Record 23 of Set 14 | luoyang\nProcessing Record 24 of Set 14 | limbang\nProcessing Record 25 of Set 14 | mayumba\nProcessing Record 26 of Set 14 | inta\nProcessing Record 27 of Set 14 | khani\nProcessing Record 28 of Set 14 | manbij\nProcessing Record 29 of Set 14 | yongan\nProcessing Record 30 of Set 14 | ruatoria\nCity not found. Skipping...\nhttp://api.openweathermap.org/data/2.5/weather?units=Imperial&amp;APPID=9d68e269e3006664cdbbf646eecf0f78&amp;q=ruatoria\n&#39;coord&#39;\nProcessing Record 31 of Set 14 | mbandaka\nProcessing Record 32 of Set 14 | warrington\nProcessing Record 33 of Set 14 | rabo de peixe\nProcessing Record 34 of Set 14 | turtas\nProcessing Record 35 of Set 14 | mabaruma\nProcessing Record 36 of Set 14 | grand river south east\nCity not found. Skipping...\nhttp://api.openweathermap.org/data/2.5/weather?units=Imperial&amp;APPID=9d68e269e3006664cdbbf646eecf0f78&amp;q=grand+river+south+east\n&#39;coord&#39;\nProcessing Record 37 of Set 14 | mercedes\nProcessing Record 38 of Set 14 | tonantins\nProcessing Record 39 of Set 14 | abengourou\nProcessing Record 40 of Set 14 | tupik\nProcessing Record 41 of Set 14 | acarau\nProcessing Record 42 of Set 14 | socuellamos\nProcessing Record 43 of Set 14 | gizo\nProcessing Record 44 of Set 14 | medina del campo\nProcessing Record 45 of Set 14 | luderitz\nProcessing Record 46 of Set 14 | ion corvin\nProcessing Record 47 of Set 14 | aksu\nProcessing Record 48 of Set 14 | bolshoy tsaryn\nCity not found. Skipping...\nhttp://api.openweathermap.org/data/2.5/weather?units=Imperial&amp;APPID=9d68e269e3006664cdbbf646eecf0f78&amp;q=bolshoy+tsaryn\n&#39;coord&#39;\nProcessing Record 49 of Set 14 | meinung\nCity not found. Skipping...\nhttp://api.openweathermap.org/data/2.5/weather?units=Imperial&amp;APPID=9d68e269e3006664cdbbf646eecf0f78&amp;q=meinung\n&#39;coord&#39;\nProcessing Record 50 of Set 14 | kapuskasing\nProcessing Record 1 of Set 15 | batangafo\nProcessing Record 2 of Set 15 | kununurra\nProcessing Record 3 of Set 15 | yanchukan\nCity not found. Skipping...\nhttp://api.openweathermap.org/data/2.5/weather?units=Imperial&amp;APPID=9d68e269e3006664cdbbf646eecf0f78&amp;q=yanchukan\n&#39;coord&#39;\nProcessing Record 4 of Set 15 | tanete\nProcessing Record 5 of Set 15 | atyrau\nProcessing Record 6 of Set 15 | rocha\nProcessing Record 7 of Set 15 | riosucio\nProcessing Record 8 of Set 15 | simiti\nProcessing Record 9 of Set 15 | launceston\nProcessing Record 10 of Set 15 | mahajanga\nProcessing Record 11 of Set 15 | harwich\nProcessing Record 12 of Set 15 | chapais\nProcessing Record 13 of Set 15 | dicabisagan\nProcessing Record 14 of Set 15 | ostersund\nProcessing Record 15 of Set 15 | talcahuano\nProcessing Record 16 of Set 15 | qinhuangdao\nProcessing Record 17 of Set 15 | bambanglipuro\nProcessing Record 18 of Set 15 | olafsvik\nProcessing Record 19 of Set 15 | kamenskoye\nCity not found. Skipping...\nhttp://api.openweathermap.org/data/2.5/weather?units=Imperial&amp;APPID=9d68e269e3006664cdbbf646eecf0f78&amp;q=kamenskoye\n&#39;coord&#39;\nProcessing Record 20 of Set 15 | hoshangabad\nProcessing Record 21 of Set 15 | nibong tebal\nProcessing Record 22 of Set 15 | plainfield\nProcessing Record 23 of Set 15 | red deer\nProcessing Record 24 of Set 15 | osa\nProcessing Record 25 of Set 15 | utiroa\nCity not found. Skipping...\nhttp://api.openweathermap.org/data/2.5/weather?units=Imperial&amp;APPID=9d68e269e3006664cdbbf646eecf0f78&amp;q=utiroa\n&#39;coord&#39;\nProcessing Record 26 of Set 15 | mocorito\nProcessing Record 27 of Set 15 | nagato\nProcessing Record 28 of Set 15 | champerico\nProcessing Record 29 of Set 15 | batagay\nProcessing Record 30 of Set 15 | leh\nProcessing Record 31 of Set 15 | lata\nProcessing Record 32 of Set 15 | nyakahanga\nProcessing Record 33 of Set 15 | mogadishu\nProcessing Record 34 of Set 15 | baruun-urt\nProcessing Record 35 of Set 15 | fuxin\nProcessing Record 36 of Set 15 | belyy yar\nProcessing Record 37 of Set 15 | monforte de lemos\nProcessing Record 38 of Set 15 | mizpe ramon\nCity not found. Skipping...\nhttp://api.openweathermap.org/data/2.5/weather?units=Imperial&amp;APPID=9d68e269e3006664cdbbf646eecf0f78&amp;q=mizpe+ramon\n&#39;coord&#39;\nProcessing Record 39 of Set 15 | nortelandia\nProcessing Record 40 of Set 15 | sucua\nProcessing Record 41 of Set 15 | tombouctou\nProcessing Record 42 of Set 15 | soledade\nProcessing Record 43 of Set 15 | khor\nProcessing Record 44 of Set 15 | albania\nProcessing Record 45 of Set 15 | talaya\nProcessing Record 46 of Set 15 | soe\nProcessing Record 47 of Set 15 | mastic beach\nProcessing Record 48 of Set 15 | valleyview\nProcessing Record 49 of Set 15 | kashin\nProcessing Record 50 of Set 15 | dixon\nProcessing Record 1 of Set 16 | mongo\nProcessing Record 2 of Set 16 | kushiro\nProcessing Record 3 of Set 16 | kahului\nProcessing Record 4 of Set 16 | payson\nProcessing Record 5 of Set 16 | cockburn harbour\nCity not found. Skipping...\nhttp://api.openweathermap.org/data/2.5/weather?units=Imperial&amp;APPID=9d68e269e3006664cdbbf646eecf0f78&amp;q=cockburn+harbour\n&#39;coord&#39;\nProcessing Record 6 of Set 16 | waingapu\nProcessing Record 7 of Set 16 | malanje\nProcessing Record 8 of Set 16 | ximei\nProcessing Record 9 of Set 16 | tulum\nProcessing Record 10 of Set 16 | pacific grove\nProcessing Record 11 of Set 16 | oktyabrskiy\nProcessing Record 12 of Set 16 | acapulco\nProcessing Record 13 of Set 16 | kamarion\nProcessing Record 14 of Set 16 | eyl\nProcessing Record 15 of Set 16 | livingston\nProcessing Record 16 of Set 16 | gympie\nProcessing Record 17 of Set 16 | ust-kuyga\nProcessing Record 18 of Set 16 | itoman\nProcessing Record 19 of Set 16 | porto novo\nProcessing Record 20 of Set 16 | yiyang\nProcessing Record 21 of Set 16 | alice town\nProcessing Record 22 of Set 16 | ordzhonikidze\nProcessing Record 23 of Set 16 | pecos\nProcessing Record 24 of Set 16 | sompeta\nProcessing Record 25 of Set 16 | college\n-----------------------------\nData Retrieval Complete      \n-----------------------------\n"
    }
   ],
   "source": [
    "#5 and 6 \n",
    "# Create an empty list to hold the weather data.\n",
    "city_data = []\n",
    "# Print the beginning of the logging.\n",
    "print(\"Beginning Data Retrieval     \")\n",
    "print(\"-----------------------------\")\n",
    "\n",
    "# Create counters.\n",
    "record_count = 1\n",
    "set_count = 1\n",
    "# Loop through all the cities in the list.\n",
    "for i, city in enumerate(cities):\n",
    "\n",
    "    # Group cities in sets of 50 for logging purposes.\n",
    "    if (i % 50 == 0 and i >= 50):\n",
    "        set_count += 1\n",
    "        record_count = 1\n",
    "    # Create endpoint URL with each city.\n",
    "    city_url = url + \"&q=\" + city.replace(\" \",\"+\")\n",
    "\n",
    "    # Log the URL, record, and set numbers and the city.\n",
    "    print(f\"Processing Record {record_count} of Set {set_count} | {city}\")\n",
    "    # Add 1 to the record count.\n",
    "    record_count += 1\n",
    "    # Run an API request for each of the cities.\n",
    "    try:\n",
    "        # Parse the JSON and retrieve data.\n",
    "        results = requests.get(city_url)\n",
    "        city_weather = results.json()\n",
    "        # Parse out the needed data.\n",
    "        city_lat = city_weather[\"coord\"][\"lat\"]\n",
    "        city_lng = city_weather[\"coord\"][\"lon\"]\n",
    "        city_max_temp = city_weather[\"main\"][\"temp_max\"]\n",
    "        city_humidity = city_weather[\"main\"][\"humidity\"]\n",
    "        city_wind = city_weather[\"wind\"][\"speed\"]\n",
    "        city_clouds = city_weather[\"clouds\"][\"all\"]\n",
    "        city_country = city_weather[\"sys\"][\"country\"]\n",
    "        city_weather_description = city_weather[\"weather\"][0][\"description\"]\n",
    "        # Convert the date to ISO standard.\n",
    "        city_date = datetime.utcfromtimestamp(city_weather[\"dt\"]).strftime('%Y-%m-%d %H:%M:%S')\n",
    "        # Append the city information into city_data list.\n",
    "        city_data.append({\"City\": city.title(),\n",
    "                          \"Country\": city_country,\n",
    "                          \"Lat\": city_lat,\n",
    "                          \"Lng\": city_lng,\n",
    "                          \"Max Temp\": city_max_temp,\n",
    "                          \"Humidity\": city_humidity,\n",
    "                          \"Cloudiness\": city_clouds,\n",
    "                          \"Wind Speed\": city_wind,\n",
    "                          \"Current Description\": city_weather_description})\n",
    "\n",
    "# If an error is experienced, skip the city.\n",
    "    except Exception as e:\n",
    "        print(\"City not found. Skipping...\")\n",
    "        print (city_url)\n",
    "        print(e)\n",
    "        pass\n",
    "\n",
    "# Indicate that Data Loading is complete.\n",
    "print(\"-----------------------------\")\n",
    "print(\"Data Retrieval Complete      \")\n",
    "print(\"-----------------------------\")"
   ]
  },
  {
   "cell_type": "code",
   "execution_count": 13,
   "metadata": {},
   "outputs": [
    {
     "output_type": "execute_result",
     "data": {
      "text/plain": "           City Country    Lat     Lng  Max Temp  Humidity  Cloudiness  \\\n0  Punta Arenas      CL -53.15  -70.92     37.40        44          40   \n1       Ushuaia      AR -54.80  -68.30     28.40        92          75   \n2      Beinamar      TD   8.67   15.38     73.24        89          96   \n3        Atuona      PF  -9.80 -139.03     78.82        75           3   \n4      Tessalit      ML  20.20    1.01     92.30        11          12   \n5       Ahipara      NZ -35.17  173.17     57.81        64          89   \n6  Puerto Ayora      EC  -0.74  -90.35     78.80        57          20   \n7      Ozuluama      MX  21.67  -97.85     84.20        42          20   \n8      Saldanha      ZA -33.01   17.94     55.40        76          98   \n9          Lebu      CL -37.62  -73.65     51.22        66           0   \n\n   Wind Speed Current Description  \n0       17.22    scattered clouds  \n1       17.22          light snow  \n2        2.35     overcast clouds  \n3       21.94           clear sky  \n4       13.82          few clouds  \n5        4.81     overcast clouds  \n6       18.34          few clouds  \n7        4.70          few clouds  \n8        8.05          light rain  \n9        9.69           clear sky  ",
      "text/html": "<div>\n<style scoped>\n    .dataframe tbody tr th:only-of-type {\n        vertical-align: middle;\n    }\n\n    .dataframe tbody tr th {\n        vertical-align: top;\n    }\n\n    .dataframe thead th {\n        text-align: right;\n    }\n</style>\n<table border=\"1\" class=\"dataframe\">\n  <thead>\n    <tr style=\"text-align: right;\">\n      <th></th>\n      <th>City</th>\n      <th>Country</th>\n      <th>Lat</th>\n      <th>Lng</th>\n      <th>Max Temp</th>\n      <th>Humidity</th>\n      <th>Cloudiness</th>\n      <th>Wind Speed</th>\n      <th>Current Description</th>\n    </tr>\n  </thead>\n  <tbody>\n    <tr>\n      <th>0</th>\n      <td>Punta Arenas</td>\n      <td>CL</td>\n      <td>-53.15</td>\n      <td>-70.92</td>\n      <td>37.40</td>\n      <td>44</td>\n      <td>40</td>\n      <td>17.22</td>\n      <td>scattered clouds</td>\n    </tr>\n    <tr>\n      <th>1</th>\n      <td>Ushuaia</td>\n      <td>AR</td>\n      <td>-54.80</td>\n      <td>-68.30</td>\n      <td>28.40</td>\n      <td>92</td>\n      <td>75</td>\n      <td>17.22</td>\n      <td>light snow</td>\n    </tr>\n    <tr>\n      <th>2</th>\n      <td>Beinamar</td>\n      <td>TD</td>\n      <td>8.67</td>\n      <td>15.38</td>\n      <td>73.24</td>\n      <td>89</td>\n      <td>96</td>\n      <td>2.35</td>\n      <td>overcast clouds</td>\n    </tr>\n    <tr>\n      <th>3</th>\n      <td>Atuona</td>\n      <td>PF</td>\n      <td>-9.80</td>\n      <td>-139.03</td>\n      <td>78.82</td>\n      <td>75</td>\n      <td>3</td>\n      <td>21.94</td>\n      <td>clear sky</td>\n    </tr>\n    <tr>\n      <th>4</th>\n      <td>Tessalit</td>\n      <td>ML</td>\n      <td>20.20</td>\n      <td>1.01</td>\n      <td>92.30</td>\n      <td>11</td>\n      <td>12</td>\n      <td>13.82</td>\n      <td>few clouds</td>\n    </tr>\n    <tr>\n      <th>5</th>\n      <td>Ahipara</td>\n      <td>NZ</td>\n      <td>-35.17</td>\n      <td>173.17</td>\n      <td>57.81</td>\n      <td>64</td>\n      <td>89</td>\n      <td>4.81</td>\n      <td>overcast clouds</td>\n    </tr>\n    <tr>\n      <th>6</th>\n      <td>Puerto Ayora</td>\n      <td>EC</td>\n      <td>-0.74</td>\n      <td>-90.35</td>\n      <td>78.80</td>\n      <td>57</td>\n      <td>20</td>\n      <td>18.34</td>\n      <td>few clouds</td>\n    </tr>\n    <tr>\n      <th>7</th>\n      <td>Ozuluama</td>\n      <td>MX</td>\n      <td>21.67</td>\n      <td>-97.85</td>\n      <td>84.20</td>\n      <td>42</td>\n      <td>20</td>\n      <td>4.70</td>\n      <td>few clouds</td>\n    </tr>\n    <tr>\n      <th>8</th>\n      <td>Saldanha</td>\n      <td>ZA</td>\n      <td>-33.01</td>\n      <td>17.94</td>\n      <td>55.40</td>\n      <td>76</td>\n      <td>98</td>\n      <td>8.05</td>\n      <td>light rain</td>\n    </tr>\n    <tr>\n      <th>9</th>\n      <td>Lebu</td>\n      <td>CL</td>\n      <td>-37.62</td>\n      <td>-73.65</td>\n      <td>51.22</td>\n      <td>66</td>\n      <td>0</td>\n      <td>9.69</td>\n      <td>clear sky</td>\n    </tr>\n  </tbody>\n</table>\n</div>"
     },
     "metadata": {},
     "execution_count": 13
    }
   ],
   "source": [
    "#7 Convert the array of dictionaries to a Pandas DataFrame.\n",
    "city_data_df = pd.DataFrame(city_data)\n",
    "city_data_df.head(10)"
   ]
  },
  {
   "cell_type": "code",
   "execution_count": 14,
   "metadata": {},
   "outputs": [
    {
     "output_type": "execute_result",
     "data": {
      "text/plain": "City                   721\nCountry                721\nLat                    721\nLng                    721\nMax Temp               721\nHumidity               721\nCloudiness             721\nWind Speed             721\nCurrent Description    721\ndtype: int64"
     },
     "metadata": {},
     "execution_count": 14
    }
   ],
   "source": [
    "city_data_df.count()"
   ]
  },
  {
   "cell_type": "code",
   "execution_count": 15,
   "metadata": {},
   "outputs": [],
   "source": [
    "# Export the DataFrame as a CSV file, and save it as WeatherPy_Database.csv in the Weather_Database folder.\n",
    "city_data_df.to_csv(\"WeatherPy_Database.csv\")"
   ]
  },
  {
   "cell_type": "code",
   "execution_count": null,
   "metadata": {},
   "outputs": [],
   "source": []
  }
 ]
}