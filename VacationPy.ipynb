{
 "metadata": {
  "language_info": {
   "codemirror_mode": {
    "name": "ipython",
    "version": 3
   },
   "file_extension": ".py",
   "mimetype": "text/x-python",
   "name": "python",
   "nbconvert_exporter": "python",
   "pygments_lexer": "ipython3",
   "version": "3.8.3-final"
  },
  "orig_nbformat": 2,
  "kernelspec": {
   "name": "python3",
   "display_name": "Python 3"
  }
 },
 "nbformat": 4,
 "nbformat_minor": 2,
 "cells": [
  {
   "cell_type": "code",
   "execution_count": 1,
   "metadata": {},
   "outputs": [],
   "source": [
    "# conda install -c conda-forge gmaps to start using google maps\n",
    "# Import the dependencies.\n",
    "import pandas as pd\n",
    "import gmaps\n",
    "import requests\n",
    "# Import the API key.\n",
    "from config import g_key"
   ]
  },
  {
   "cell_type": "code",
   "execution_count": 2,
   "metadata": {},
   "outputs": [
    {
     "output_type": "execute_result",
     "data": {
      "text/plain": "   City_ID        City Country                 Date    Lat     Lng  Max Temp  \\\n0        0    Katsuura      JP  2020-09-29 13:47:11  35.13  140.30     66.20   \n1        1        Kita      ML  2020-09-29 13:48:13  13.03   -9.49     89.94   \n2        2  Bredasdorp      ZA  2020-09-29 13:43:58 -34.53   20.04     64.40   \n3        3       Kapaa      US  2020-09-29 13:46:56  22.08 -159.32     73.40   \n4        4     Ushuaia      AR  2020-09-29 13:46:47 -54.80  -68.30     33.80   \n\n   Humidity  Cloudiness  Wind Speed  \n0        68          75       14.99  \n1        56           9        8.12  \n2        45          40       17.22  \n3        88           1        6.93  \n4        74          75       18.34  ",
      "text/html": "<div>\n<style scoped>\n    .dataframe tbody tr th:only-of-type {\n        vertical-align: middle;\n    }\n\n    .dataframe tbody tr th {\n        vertical-align: top;\n    }\n\n    .dataframe thead th {\n        text-align: right;\n    }\n</style>\n<table border=\"1\" class=\"dataframe\">\n  <thead>\n    <tr style=\"text-align: right;\">\n      <th></th>\n      <th>City_ID</th>\n      <th>City</th>\n      <th>Country</th>\n      <th>Date</th>\n      <th>Lat</th>\n      <th>Lng</th>\n      <th>Max Temp</th>\n      <th>Humidity</th>\n      <th>Cloudiness</th>\n      <th>Wind Speed</th>\n    </tr>\n  </thead>\n  <tbody>\n    <tr>\n      <th>0</th>\n      <td>0</td>\n      <td>Katsuura</td>\n      <td>JP</td>\n      <td>2020-09-29 13:47:11</td>\n      <td>35.13</td>\n      <td>140.30</td>\n      <td>66.20</td>\n      <td>68</td>\n      <td>75</td>\n      <td>14.99</td>\n    </tr>\n    <tr>\n      <th>1</th>\n      <td>1</td>\n      <td>Kita</td>\n      <td>ML</td>\n      <td>2020-09-29 13:48:13</td>\n      <td>13.03</td>\n      <td>-9.49</td>\n      <td>89.94</td>\n      <td>56</td>\n      <td>9</td>\n      <td>8.12</td>\n    </tr>\n    <tr>\n      <th>2</th>\n      <td>2</td>\n      <td>Bredasdorp</td>\n      <td>ZA</td>\n      <td>2020-09-29 13:43:58</td>\n      <td>-34.53</td>\n      <td>20.04</td>\n      <td>64.40</td>\n      <td>45</td>\n      <td>40</td>\n      <td>17.22</td>\n    </tr>\n    <tr>\n      <th>3</th>\n      <td>3</td>\n      <td>Kapaa</td>\n      <td>US</td>\n      <td>2020-09-29 13:46:56</td>\n      <td>22.08</td>\n      <td>-159.32</td>\n      <td>73.40</td>\n      <td>88</td>\n      <td>1</td>\n      <td>6.93</td>\n    </tr>\n    <tr>\n      <th>4</th>\n      <td>4</td>\n      <td>Ushuaia</td>\n      <td>AR</td>\n      <td>2020-09-29 13:46:47</td>\n      <td>-54.80</td>\n      <td>-68.30</td>\n      <td>33.80</td>\n      <td>74</td>\n      <td>75</td>\n      <td>18.34</td>\n    </tr>\n  </tbody>\n</table>\n</div>"
     },
     "metadata": {},
     "execution_count": 2
    }
   ],
   "source": [
    "# Store the CSV you saved created in part one into a DataFrame.\n",
    "city_data_df = pd.read_csv(\"weather_data/cities.csv\")\n",
    "city_data_df.head()"
   ]
  },
  {
   "cell_type": "code",
   "execution_count": 3,
   "metadata": {},
   "outputs": [
    {
     "output_type": "execute_result",
     "data": {
      "text/plain": "City_ID         int64\nCity           object\nCountry        object\nDate           object\nLat           float64\nLng           float64\nMax Temp      float64\nHumidity        int64\nCloudiness      int64\nWind Speed    float64\ndtype: object"
     },
     "metadata": {},
     "execution_count": 3
    }
   ],
   "source": [
    "city_data_df.dtypes"
   ]
  },
  {
   "cell_type": "code",
   "execution_count": 4,
   "metadata": {},
   "outputs": [],
   "source": [
    "# Configure gmaps to use your Google API key.\n",
    "gmaps.configure(api_key=g_key)"
   ]
  },
  {
   "source": [
    "## General syntax for creating heatmaps\n",
    "```\n",
    "# 1. Assign the locations to an array of latitude and longitude pairs.\n",
    "locations = [latitude, longitude]\n",
    "# 2. Assign the weights variable to some values.\n",
    "temperatures = # an array of equal length of the locations array.\n",
    "# 3. Assign the figure variable to the gmaps.figure() attribute.\n",
    "fig = gmaps.figure()\n",
    "# 4. Assign the heatmap_layer variable to the heatmap_layer attribute and add in the locations.\n",
    "heatmap_layer = gmaps.heatmap_layer(locations, weights=temperatures)\n",
    "\n",
    "# 5. Add the heatmap layer.\n",
    "fig.add_layer(heatmap_layer)\n",
    "# 6. Call the figure to plot the data.\n",
    "fig\n",
    "```"
   ],
   "cell_type": "markdown",
   "metadata": {}
  },
  {
   "cell_type": "code",
   "execution_count": 5,
   "metadata": {},
   "outputs": [
    {
     "output_type": "display_data",
     "data": {
      "text/plain": "Figure(layout=FigureLayout(height=&#39;420px&#39;))",
      "application/vnd.jupyter.widget-view+json": {
       "version_major": 2,
       "version_minor": 0,
       "model_id": "becf345a9fc74ac883fd90624e50b6a5"
      }
     },
     "metadata": {}
    }
   ],
   "source": [
    "# Heatmap of temperature\n",
    "# Get the latitude and longitude.\n",
    "locations = city_data_df[[\"Lat\", \"Lng\"]]\n",
    "# Get the maximum temperature.\n",
    "max_temp = city_data_df[\"Max Temp\"]\n",
    "# Assign the figure variable.\n",
    "fig = gmaps.figure()\n",
    "# Assign the heatmap variable.\n",
    "# Must enable Maps Javascript API\n",
    "heat_layer = gmaps.heatmap_layer(locations, weights=max_temp)\n",
    "# Add the heatmap layer.\n",
    "fig.add_layer(heat_layer)\n",
    "# Call the figure to plot the data.\n",
    "fig"
   ]
  },
  {
   "cell_type": "code",
   "execution_count": 15,
   "metadata": {
    "tags": []
   },
   "outputs": [
    {
     "output_type": "execute_result",
     "data": {
      "text/plain": "City_ID       0\nCity          0\nCountry       0\nDate          0\nLat           0\nLng           0\nMax Temp      0\nHumidity      0\nCloudiness    0\nWind Speed    0\ndtype: int64"
     },
     "metadata": {},
     "execution_count": 15
    }
   ],
   "source": [
    "#city_data_df.loc[(city_data_df.loc[\"Max Temp\"] > 0)]\n",
    "city_data_df[city_data_df[\"Max Temp\"]<0].count()"
   ]
  },
  {
   "cell_type": "code",
   "execution_count": 16,
   "metadata": {},
   "outputs": [],
   "source": [
    "# Get the maximum temperature.\n",
    "max_temp = city_data_df[\"Max Temp\"]\n",
    "temps = []\n",
    "for temp in max_temp:\n",
    "    temps.append(max(temp, 0)) # if temp is > 0 then get temp else 0"
   ]
  },
  {
   "source": [
    "Since google map throws an error if the temparature is negative\n",
    "<br> we use the list compression in place of max_temp  "
   ],
   "cell_type": "markdown",
   "metadata": {}
  },
  {
   "cell_type": "code",
   "execution_count": 17,
   "metadata": {},
   "outputs": [
    {
     "output_type": "display_data",
     "data": {
      "text/plain": "Figure(layout=FigureLayout(height=&#39;420px&#39;))",
      "application/vnd.jupyter.widget-view+json": {
       "version_major": 2,
       "version_minor": 0,
       "model_id": "b8b32d07c87f46ae835c9c0e8d4a1eb7"
      }
     },
     "metadata": {}
    }
   ],
   "source": [
    "# Heatmap of temperature\n",
    "# Get the latitude and longitude.\n",
    "locations = city_data_df[[\"Lat\", \"Lng\"]]\n",
    "# Get the maximum temperature.\n",
    "max_temp = city_data_df[\"Max Temp\"]\n",
    "# Assign the figure variable.\n",
    "fig = gmaps.figure()\n",
    "# Assign the heatmap variable.\n",
    "# Must enable Maps Javascript API\n",
    "heat_layer = gmaps.heatmap_layer(locations, weights=[max(temp,0) for temp in max_temp])\n",
    "# Add the heatmap layer.\n",
    "fig.add_layer(heat_layer)\n",
    "# Call the figure to plot the data.\n",
    "fig"
   ]
  },
  {
   "source": [
    "This map is too large. We will need to make some adjustments to the gmaps.figure() attribute."
   ],
   "cell_type": "markdown",
   "metadata": {}
  },
  {
   "cell_type": "code",
   "execution_count": 19,
   "metadata": {},
   "outputs": [
    {
     "output_type": "display_data",
     "data": {
      "text/plain": "Figure(layout=FigureLayout(height=&#39;420px&#39;))",
      "application/vnd.jupyter.widget-view+json": {
       "version_major": 2,
       "version_minor": 0,
       "model_id": "70d1a22fcb0e4d988c211e7386b905ec"
      }
     },
     "metadata": {}
    }
   ],
   "source": [
    "# Heatmap of temperature\n",
    "# Get the latitude and longitude.\n",
    "locations = city_data_df[[\"Lat\", \"Lng\"]]\n",
    "# Get the maximum temperature.\n",
    "max_temp = city_data_df[\"Max Temp\"]\n",
    "# Assign the figure variable.\n",
    "fig = gmaps.figure(center=(30.0, 31.0), zoom_level=1.5)\n",
    "# Assign the heatmap variable.\n",
    "# Must enable Maps Javascript API\n",
    "heat_layer = gmaps.heatmap_layer(locations, weights=temps, dissipating=False, max_intensity=300, point_radius=4)\n",
    "# Add the heatmap layer.\n",
    "fig.add_layer(heat_layer)\n",
    "# Call the figure to plot the data.\n",
    "fig"
   ]
  },
  {
   "cell_type": "code",
   "execution_count": 20,
   "metadata": {},
   "outputs": [
    {
     "output_type": "display_data",
     "data": {
      "text/plain": "Figure(layout=FigureLayout(height=&#39;420px&#39;))",
      "application/vnd.jupyter.widget-view+json": {
       "version_major": 2,
       "version_minor": 0,
       "model_id": "e88300ef8bf14e4eafd85a6a507a974d"
      }
     },
     "metadata": {}
    }
   ],
   "source": [
    "# Heatmap of percent humidity\n",
    "locations = city_data_df[[\"Lat\", \"Lng\"]]\n",
    "humidity = city_data_df[\"Humidity\"]\n",
    "fig = gmaps.figure(center=(30.0, 31.0), zoom_level=1.5)\n",
    "heat_layer = gmaps.heatmap_layer(locations, weights=humidity, dissipating=False, max_intensity=300, point_radius=4)\n",
    "\n",
    "fig.add_layer(heat_layer)\n",
    "# Call the figure to plot the data.\n",
    "fig"
   ]
  },
  {
   "cell_type": "code",
   "execution_count": 21,
   "metadata": {},
   "outputs": [
    {
     "output_type": "display_data",
     "data": {
      "text/plain": "Figure(layout=FigureLayout(height=&#39;420px&#39;))",
      "application/vnd.jupyter.widget-view+json": {
       "version_major": 2,
       "version_minor": 0,
       "model_id": "c673824834934a43ad0971770243d498"
      }
     },
     "metadata": {}
    }
   ],
   "source": [
    "# Heatmap of Cloudiness\n",
    "locations = city_data_df[[\"Lat\", \"Lng\"]]\n",
    "clouds = city_data_df[\"Cloudiness\"]\n",
    "fig = gmaps.figure(center=(30.0, 31.0), zoom_level=1.5)\n",
    "heat_layer = gmaps.heatmap_layer(locations, weights=clouds, dissipating=False, max_intensity=300, point_radius=4)\n",
    "\n",
    "fig.add_layer(heat_layer)\n",
    "# Call the figure to plot the data.\n",
    "fig"
   ]
  },
  {
   "cell_type": "code",
   "execution_count": 22,
   "metadata": {},
   "outputs": [
    {
     "output_type": "display_data",
     "data": {
      "text/plain": "Figure(layout=FigureLayout(height=&#39;420px&#39;))",
      "application/vnd.jupyter.widget-view+json": {
       "version_major": 2,
       "version_minor": 0,
       "model_id": "41eb46d03bad4852bc7940e61485ad64"
      }
     },
     "metadata": {}
    }
   ],
   "source": [
    "# Heatmap of Windspeed\n",
    "locations = city_data_df[[\"Lat\", \"Lng\"]]\n",
    "wind = city_data_df[\"Wind Speed\"]\n",
    "fig = gmaps.figure(center=(30.0, 31.0), zoom_level=1.5)\n",
    "heat_layer = gmaps.heatmap_layer(locations, weights=wind, dissipating=False, max_intensity=300, point_radius=4)\n",
    "\n",
    "fig.add_layer(heat_layer)\n",
    "# Call the figure to plot the data.\n",
    "fig"
   ]
  },
  {
   "cell_type": "code",
   "execution_count": 23,
   "metadata": {},
   "outputs": [],
   "source": [
    "# Ask the customer to add a minimum and maximum temperature value.\n",
    "min_temp = float(input(\"What is the minimum temperature you would like for your trip? \"))\n",
    "max_temp = float(input(\"What is the maximum temperature you would like for your trip? \"))"
   ]
  },
  {
   "cell_type": "code",
   "execution_count": 24,
   "metadata": {},
   "outputs": [
    {
     "output_type": "execute_result",
     "data": {
      "text/plain": "    City_ID        City Country                 Date    Lat     Lng  Max Temp  \\\n1         1        Kita      ML  2020-09-29 13:48:13  13.03   -9.49     89.94   \n12       12  Hambantota      LK  2020-09-29 13:46:45   6.12   81.12     80.60   \n26       26  Port Blair      IN  2020-09-29 13:48:17  11.67   92.75     81.14   \n27       27  Carutapera      BR  2020-09-29 13:48:17  -1.20  -46.02     87.80   \n34       34  Sarankhola      BD  2020-09-29 13:48:18  22.31   89.79     81.43   \n44       44    Victoria      HK  2020-09-29 13:44:33  22.29  114.16     82.99   \n52       52   Saint-Leu      RE  2020-09-29 13:48:22 -21.15   55.28     75.99   \n53       53       Alofi      NU  2020-09-29 13:48:22 -19.06 -169.92     75.20   \n57       57        Faya      SA  2020-09-29 13:47:09  18.39   42.45     84.20   \n59       59       Hobyo      SO  2020-09-29 13:48:23   5.35   48.53     79.65   \n\n    Humidity  Cloudiness  Wind Speed  \n1         56           9        8.12  \n12        88          20        6.93  \n26        80         100       18.72  \n27        56           0       10.09  \n34        88          72        4.90  \n44        83          28       11.10  \n52        73          31       13.87  \n53        88          75        4.70  \n57        11          20       18.34  \n59        77           2       19.66  ",
      "text/html": "<div>\n<style scoped>\n    .dataframe tbody tr th:only-of-type {\n        vertical-align: middle;\n    }\n\n    .dataframe tbody tr th {\n        vertical-align: top;\n    }\n\n    .dataframe thead th {\n        text-align: right;\n    }\n</style>\n<table border=\"1\" class=\"dataframe\">\n  <thead>\n    <tr style=\"text-align: right;\">\n      <th></th>\n      <th>City_ID</th>\n      <th>City</th>\n      <th>Country</th>\n      <th>Date</th>\n      <th>Lat</th>\n      <th>Lng</th>\n      <th>Max Temp</th>\n      <th>Humidity</th>\n      <th>Cloudiness</th>\n      <th>Wind Speed</th>\n    </tr>\n  </thead>\n  <tbody>\n    <tr>\n      <th>1</th>\n      <td>1</td>\n      <td>Kita</td>\n      <td>ML</td>\n      <td>2020-09-29 13:48:13</td>\n      <td>13.03</td>\n      <td>-9.49</td>\n      <td>89.94</td>\n      <td>56</td>\n      <td>9</td>\n      <td>8.12</td>\n    </tr>\n    <tr>\n      <th>12</th>\n      <td>12</td>\n      <td>Hambantota</td>\n      <td>LK</td>\n      <td>2020-09-29 13:46:45</td>\n      <td>6.12</td>\n      <td>81.12</td>\n      <td>80.60</td>\n      <td>88</td>\n      <td>20</td>\n      <td>6.93</td>\n    </tr>\n    <tr>\n      <th>26</th>\n      <td>26</td>\n      <td>Port Blair</td>\n      <td>IN</td>\n      <td>2020-09-29 13:48:17</td>\n      <td>11.67</td>\n      <td>92.75</td>\n      <td>81.14</td>\n      <td>80</td>\n      <td>100</td>\n      <td>18.72</td>\n    </tr>\n    <tr>\n      <th>27</th>\n      <td>27</td>\n      <td>Carutapera</td>\n      <td>BR</td>\n      <td>2020-09-29 13:48:17</td>\n      <td>-1.20</td>\n      <td>-46.02</td>\n      <td>87.80</td>\n      <td>56</td>\n      <td>0</td>\n      <td>10.09</td>\n    </tr>\n    <tr>\n      <th>34</th>\n      <td>34</td>\n      <td>Sarankhola</td>\n      <td>BD</td>\n      <td>2020-09-29 13:48:18</td>\n      <td>22.31</td>\n      <td>89.79</td>\n      <td>81.43</td>\n      <td>88</td>\n      <td>72</td>\n      <td>4.90</td>\n    </tr>\n    <tr>\n      <th>44</th>\n      <td>44</td>\n      <td>Victoria</td>\n      <td>HK</td>\n      <td>2020-09-29 13:44:33</td>\n      <td>22.29</td>\n      <td>114.16</td>\n      <td>82.99</td>\n      <td>83</td>\n      <td>28</td>\n      <td>11.10</td>\n    </tr>\n    <tr>\n      <th>52</th>\n      <td>52</td>\n      <td>Saint-Leu</td>\n      <td>RE</td>\n      <td>2020-09-29 13:48:22</td>\n      <td>-21.15</td>\n      <td>55.28</td>\n      <td>75.99</td>\n      <td>73</td>\n      <td>31</td>\n      <td>13.87</td>\n    </tr>\n    <tr>\n      <th>53</th>\n      <td>53</td>\n      <td>Alofi</td>\n      <td>NU</td>\n      <td>2020-09-29 13:48:22</td>\n      <td>-19.06</td>\n      <td>-169.92</td>\n      <td>75.20</td>\n      <td>88</td>\n      <td>75</td>\n      <td>4.70</td>\n    </tr>\n    <tr>\n      <th>57</th>\n      <td>57</td>\n      <td>Faya</td>\n      <td>SA</td>\n      <td>2020-09-29 13:47:09</td>\n      <td>18.39</td>\n      <td>42.45</td>\n      <td>84.20</td>\n      <td>11</td>\n      <td>20</td>\n      <td>18.34</td>\n    </tr>\n    <tr>\n      <th>59</th>\n      <td>59</td>\n      <td>Hobyo</td>\n      <td>SO</td>\n      <td>2020-09-29 13:48:23</td>\n      <td>5.35</td>\n      <td>48.53</td>\n      <td>79.65</td>\n      <td>77</td>\n      <td>2</td>\n      <td>19.66</td>\n    </tr>\n  </tbody>\n</table>\n</div>"
     },
     "metadata": {},
     "execution_count": 24
    }
   ],
   "source": [
    "# Filter the dataset to find the cities that fit the criteria.\n",
    "preferred_cities_df = city_data_df.loc[(city_data_df[\"Max Temp\"] <= max_temp) & \\\n",
    "                                       (city_data_df[\"Max Temp\"] >= min_temp)]\n",
    "preferred_cities_df.head(10)"
   ]
  },
  {
   "cell_type": "code",
   "execution_count": 25,
   "metadata": {},
   "outputs": [
    {
     "output_type": "execute_result",
     "data": {
      "text/plain": "City_ID       185\nCity          185\nCountry       185\nDate          185\nLat           185\nLng           185\nMax Temp      185\nHumidity      185\nCloudiness    185\nWind Speed    185\ndtype: int64"
     },
     "metadata": {},
     "execution_count": 25
    }
   ],
   "source": [
    "preferred_cities_df.count()"
   ]
  },
  {
   "cell_type": "code",
   "execution_count": 26,
   "metadata": {},
   "outputs": [
    {
     "output_type": "execute_result",
     "data": {
      "text/plain": "City_ID       0\nCity          0\nCountry       0\nDate          0\nLat           0\nLng           0\nMax Temp      0\nHumidity      0\nCloudiness    0\nWind Speed    0\ndtype: int64"
     },
     "metadata": {},
     "execution_count": 26
    }
   ],
   "source": [
    "preferred_cities_df.isnull().sum()"
   ]
  },
  {
   "cell_type": "code",
   "execution_count": 27,
   "metadata": {},
   "outputs": [
    {
     "output_type": "execute_result",
     "data": {
      "text/plain": "City_ID       185\nCity          185\nCountry       185\nDate          185\nLat           185\nLng           185\nMax Temp      185\nHumidity      185\nCloudiness    185\nWind Speed    185\ndtype: int64"
     },
     "metadata": {},
     "execution_count": 27
    }
   ],
   "source": [
    "preferred_cities_df.notnull().sum()"
   ]
  },
  {
   "cell_type": "code",
   "execution_count": 28,
   "metadata": {},
   "outputs": [
    {
     "output_type": "execute_result",
     "data": {
      "text/plain": "          City Country  Max Temp    Lat     Lng Hotel Name\n1         Kita      ML     89.94  13.03   -9.49           \n12  Hambantota      LK     80.60   6.12   81.12           \n26  Port Blair      IN     81.14  11.67   92.75           \n27  Carutapera      BR     87.80  -1.20  -46.02           \n34  Sarankhola      BD     81.43  22.31   89.79           \n44    Victoria      HK     82.99  22.29  114.16           \n52   Saint-Leu      RE     75.99 -21.15   55.28           \n53       Alofi      NU     75.20 -19.06 -169.92           \n57        Faya      SA     84.20  18.39   42.45           \n59       Hobyo      SO     79.65   5.35   48.53           ",
      "text/html": "<div>\n<style scoped>\n    .dataframe tbody tr th:only-of-type {\n        vertical-align: middle;\n    }\n\n    .dataframe tbody tr th {\n        vertical-align: top;\n    }\n\n    .dataframe thead th {\n        text-align: right;\n    }\n</style>\n<table border=\"1\" class=\"dataframe\">\n  <thead>\n    <tr style=\"text-align: right;\">\n      <th></th>\n      <th>City</th>\n      <th>Country</th>\n      <th>Max Temp</th>\n      <th>Lat</th>\n      <th>Lng</th>\n      <th>Hotel Name</th>\n    </tr>\n  </thead>\n  <tbody>\n    <tr>\n      <th>1</th>\n      <td>Kita</td>\n      <td>ML</td>\n      <td>89.94</td>\n      <td>13.03</td>\n      <td>-9.49</td>\n      <td></td>\n    </tr>\n    <tr>\n      <th>12</th>\n      <td>Hambantota</td>\n      <td>LK</td>\n      <td>80.60</td>\n      <td>6.12</td>\n      <td>81.12</td>\n      <td></td>\n    </tr>\n    <tr>\n      <th>26</th>\n      <td>Port Blair</td>\n      <td>IN</td>\n      <td>81.14</td>\n      <td>11.67</td>\n      <td>92.75</td>\n      <td></td>\n    </tr>\n    <tr>\n      <th>27</th>\n      <td>Carutapera</td>\n      <td>BR</td>\n      <td>87.80</td>\n      <td>-1.20</td>\n      <td>-46.02</td>\n      <td></td>\n    </tr>\n    <tr>\n      <th>34</th>\n      <td>Sarankhola</td>\n      <td>BD</td>\n      <td>81.43</td>\n      <td>22.31</td>\n      <td>89.79</td>\n      <td></td>\n    </tr>\n    <tr>\n      <th>44</th>\n      <td>Victoria</td>\n      <td>HK</td>\n      <td>82.99</td>\n      <td>22.29</td>\n      <td>114.16</td>\n      <td></td>\n    </tr>\n    <tr>\n      <th>52</th>\n      <td>Saint-Leu</td>\n      <td>RE</td>\n      <td>75.99</td>\n      <td>-21.15</td>\n      <td>55.28</td>\n      <td></td>\n    </tr>\n    <tr>\n      <th>53</th>\n      <td>Alofi</td>\n      <td>NU</td>\n      <td>75.20</td>\n      <td>-19.06</td>\n      <td>-169.92</td>\n      <td></td>\n    </tr>\n    <tr>\n      <th>57</th>\n      <td>Faya</td>\n      <td>SA</td>\n      <td>84.20</td>\n      <td>18.39</td>\n      <td>42.45</td>\n      <td></td>\n    </tr>\n    <tr>\n      <th>59</th>\n      <td>Hobyo</td>\n      <td>SO</td>\n      <td>79.65</td>\n      <td>5.35</td>\n      <td>48.53</td>\n      <td></td>\n    </tr>\n  </tbody>\n</table>\n</div>"
     },
     "metadata": {},
     "execution_count": 28
    }
   ],
   "source": [
    "# Create DataFrame called hotel_df to store hotel names along with city, country, max temp, and coordinates.\n",
    "hotel_df = preferred_cities_df[[\"City\", \"Country\", \"Max Temp\", \"Lat\", \"Lng\"]].copy()\n",
    "hotel_df[\"Hotel Name\"] = \"\"\n",
    "hotel_df.head(10)"
   ]
  },
  {
   "cell_type": "code",
   "execution_count": 29,
   "metadata": {},
   "outputs": [],
   "source": [
    "# Set parameters to search for a hotel.\n",
    "params = {\n",
    "    \"radius\": 5000,\n",
    "    \"type\": \"lodging\",\n",
    "    \"key\": g_key\n",
    "}"
   ]
  },
  {
   "cell_type": "code",
   "execution_count": 33,
   "metadata": {
    "tags": []
   },
   "outputs": [
    {
     "output_type": "stream",
     "name": "stdout",
     "text": "Hotel not found... skipping.\nHotel not found... skipping.\nHotel not found... skipping.\nHotel not found... skipping.\nHotel not found... skipping.\nHotel not found... skipping.\nHotel not found... skipping.\nHotel not found... skipping.\nHotel not found... skipping.\nHotel not found... skipping.\nHotel not found... skipping.\n"
    }
   ],
   "source": [
    "# Iterate through the DataFrame.\n",
    "for index, row in hotel_df.iterrows():\n",
    "    # Get the latitude and longitude.\n",
    "    lat = row[\"Lat\"]\n",
    "    lng = row[\"Lng\"]\n",
    "\n",
    "    # Add the latitude and longitude to location key for the params dictionary.\n",
    "    params[\"location\"] = f\"{lat},{lng}\"\n",
    "\n",
    "    # Use the search term: \"lodging\" and our latitude and longitude.\n",
    "    base_url = \"https://maps.googleapis.com/maps/api/place/nearbysearch/json\"\n",
    "    # Make request and get the JSON data from the search.\n",
    "    hotels = requests.get(base_url, params=params).json()\n",
    "    # Grab the first hotel from the results and store the name.\n",
    "    try:\n",
    "        hotel_df.loc[index, \"Hotel Name\"] = hotels[\"results\"][0][\"name\"]\n",
    "    except (IndexError):\n",
    "        print(\"Hotel not found... skipping.\")"
   ]
  },
  {
   "cell_type": "code",
   "execution_count": 34,
   "metadata": {},
   "outputs": [
    {
     "output_type": "execute_result",
     "data": {
      "text/plain": "          City Country  Max Temp    Lat    Lng                 Hotel Name\n1         Kita      ML     89.94  13.03  -9.49       Hôtel Nelson Mandela\n12  Hambantota      LK     80.60   6.12  81.12                Bungalow 63\n26  Port Blair      IN     81.14  11.67  92.75  Fortune Resort Bay Island\n27  Carutapera      BR     87.80  -1.20 -46.02                     Lidera\n34  Sarankhola      BD     81.43  22.31  89.79                  ইসা ষ্টোর",
      "text/html": "<div>\n<style scoped>\n    .dataframe tbody tr th:only-of-type {\n        vertical-align: middle;\n    }\n\n    .dataframe tbody tr th {\n        vertical-align: top;\n    }\n\n    .dataframe thead th {\n        text-align: right;\n    }\n</style>\n<table border=\"1\" class=\"dataframe\">\n  <thead>\n    <tr style=\"text-align: right;\">\n      <th></th>\n      <th>City</th>\n      <th>Country</th>\n      <th>Max Temp</th>\n      <th>Lat</th>\n      <th>Lng</th>\n      <th>Hotel Name</th>\n    </tr>\n  </thead>\n  <tbody>\n    <tr>\n      <th>1</th>\n      <td>Kita</td>\n      <td>ML</td>\n      <td>89.94</td>\n      <td>13.03</td>\n      <td>-9.49</td>\n      <td>Hôtel Nelson Mandela</td>\n    </tr>\n    <tr>\n      <th>12</th>\n      <td>Hambantota</td>\n      <td>LK</td>\n      <td>80.60</td>\n      <td>6.12</td>\n      <td>81.12</td>\n      <td>Bungalow 63</td>\n    </tr>\n    <tr>\n      <th>26</th>\n      <td>Port Blair</td>\n      <td>IN</td>\n      <td>81.14</td>\n      <td>11.67</td>\n      <td>92.75</td>\n      <td>Fortune Resort Bay Island</td>\n    </tr>\n    <tr>\n      <th>27</th>\n      <td>Carutapera</td>\n      <td>BR</td>\n      <td>87.80</td>\n      <td>-1.20</td>\n      <td>-46.02</td>\n      <td>Lidera</td>\n    </tr>\n    <tr>\n      <th>34</th>\n      <td>Sarankhola</td>\n      <td>BD</td>\n      <td>81.43</td>\n      <td>22.31</td>\n      <td>89.79</td>\n      <td>ইসা ষ্টোর</td>\n    </tr>\n  </tbody>\n</table>\n</div>"
     },
     "metadata": {},
     "execution_count": 34
    }
   ],
   "source": [
    "hotel_df.head()"
   ]
  },
  {
   "cell_type": "code",
   "execution_count": 36,
   "metadata": {},
   "outputs": [],
   "source": [
    "hotel_df.to_csv(\"hotel.csv\")"
   ]
  },
  {
   "cell_type": "code",
   "execution_count": 38,
   "metadata": {},
   "outputs": [
    {
     "output_type": "display_data",
     "data": {
      "text/plain": "Figure(layout=FigureLayout(height=&#39;420px&#39;))",
      "application/vnd.jupyter.widget-view+json": {
       "version_major": 2,
       "version_minor": 0,
       "model_id": "3b2142dc190348db867bac0a33779611"
      }
     },
     "metadata": {}
    }
   ],
   "source": [
    "# Add a heatmap of temperature for the vacation spots and marker for each city.\n",
    "locations = hotel_df[[\"Lat\", \"Lng\"]]\n",
    "max_temp = hotel_df[\"Max Temp\"]\n",
    "fig = gmaps.figure(center=(30.0, 31.0), zoom_level=1.5)\n",
    "heat_layer = gmaps.heatmap_layer(locations, weights=max_temp,\n",
    "             dissipating=False, max_intensity=300, point_radius=4)\n",
    "marker_layer = gmaps.marker_layer(locations)\n",
    "fig.add_layer(heat_layer)\n",
    "fig.add_layer(marker_layer)\n",
    "# Call the figure to plot the data.\n",
    "fig"
   ]
  },
  {
   "source": [
    "## Add pop-up marker\n",
    "As per google documentation\n",
    "https://jupyter-gmaps.readthedocs.io/en/latest/tutorial.html#markers-and-symbols"
   ],
   "cell_type": "markdown",
   "metadata": {}
  },
  {
   "cell_type": "code",
   "execution_count": 39,
   "metadata": {},
   "outputs": [],
   "source": [
    "info_box_template = \"\"\"\n",
    "<dl>\n",
    "<dt>Hotel Name</dt><dd>{Hotel Name}</dd>\n",
    "<dt>City</dt><dd>{City}</dd>\n",
    "<dt>Country</dt><dd>{Country}</dd>\n",
    "<dt>Max Temp</dt><dd>{Max Temp} °F</dd>\n",
    "</dl>\n",
    "\"\"\""
   ]
  },
  {
   "cell_type": "code",
   "execution_count": 40,
   "metadata": {},
   "outputs": [],
   "source": [
    "# Store the DataFrame Row.\n",
    "hotel_info = [info_box_template.format(**row) for index, row in hotel_df.iterrows()]"
   ]
  },
  {
   "cell_type": "code",
   "execution_count": 41,
   "metadata": {},
   "outputs": [
    {
     "output_type": "display_data",
     "data": {
      "text/plain": "Figure(layout=FigureLayout(height=&#39;420px&#39;))",
      "application/vnd.jupyter.widget-view+json": {
       "version_major": 2,
       "version_minor": 0,
       "model_id": "48cfaa91dfc745bd8a5ec0dee44d6226"
      }
     },
     "metadata": {}
    }
   ],
   "source": [
    "# Add a heatmap of temperature for the vacation spots and a pop-up marker for each city.\n",
    "locations = hotel_df[[\"Lat\", \"Lng\"]]\n",
    "max_temp = hotel_df[\"Max Temp\"]\n",
    "fig = gmaps.figure(center=(30.0, 31.0), zoom_level=1.5)\n",
    "heat_layer = gmaps.heatmap_layer(locations, weights=max_temp,dissipating=False,\n",
    "             max_intensity=300, point_radius=4)\n",
    "marker_layer = gmaps.marker_layer(locations, info_box_content=hotel_info)\n",
    "fig.add_layer(heat_layer)\n",
    "fig.add_layer(marker_layer)\n",
    "\n",
    "# Call the figure to plot the data.\n",
    "fig"
   ]
  },
  {
   "cell_type": "code",
   "execution_count": null,
   "metadata": {},
   "outputs": [],
   "source": []
  }
 ]
}