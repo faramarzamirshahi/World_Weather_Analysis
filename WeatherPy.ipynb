{
 "metadata": {
  "language_info": {
   "codemirror_mode": {
    "name": "ipython",
    "version": 3
   },
   "file_extension": ".py",
   "mimetype": "text/x-python",
   "name": "python",
   "nbconvert_exporter": "python",
   "pygments_lexer": "ipython3",
   "version": "3.8.3-final"
  },
  "orig_nbformat": 2,
  "kernelspec": {
   "name": "python3",
   "display_name": "Python 3"
  }
 },
 "nbformat": 4,
 "nbformat_minor": 2,
 "cells": [
  {
   "cell_type": "code",
   "execution_count": 12,
   "metadata": {},
   "outputs": [],
   "source": [
    "# Import the dependencies.\n",
    "import pandas as pd\n",
    "import matplotlib.pyplot as plt\n",
    "import numpy as np"
   ]
  },
  {
   "cell_type": "code",
   "execution_count": 13,
   "metadata": {},
   "outputs": [
    {
     "output_type": "execute_result",
     "data": {
      "text/plain": "<zip at 0x1eaa508bbc0>"
     },
     "metadata": {},
     "execution_count": 13
    }
   ],
   "source": [
    "# Create a set of random latitude and longitude combinations.\n",
    "lats = np.random.uniform(low=-90.000, high=90.000, size=1500)\n",
    "lngs = np.random.uniform(low=-180.000, high=180.000, size=1500)\n",
    "lat_lngs = zip(lats, lngs)\n",
    "lat_lngs"
   ]
  },
  {
   "cell_type": "code",
   "execution_count": 14,
   "metadata": {},
   "outputs": [],
   "source": [
    "# Create a practice set of random latitude and longitude combinations.\n",
    "x = [25.12903645, 25.92017388, 26.62509167, -59.98969384, 37.30571269]\n",
    "y = [-67.59741259, 11.09532135, 74.84233102, -76.89176677, -61.13376282]\n",
    "coordinates = zip(x, y)"
   ]
  },
  {
   "cell_type": "code",
   "execution_count": 15,
   "metadata": {},
   "outputs": [],
   "source": [
    "# Use the citipy module to determine city based on latitude and longitude.\n",
    "from citipy import citipy"
   ]
  },
  {
   "cell_type": "code",
   "execution_count": 16,
   "metadata": {
    "tags": []
   },
   "outputs": [
    {
     "output_type": "stream",
     "name": "stdout",
     "text": "25.12903645 -67.59741259\n25.92017388 11.09532135\n26.62509167 74.84233102\n-59.98969384 -76.89176677\n37.30571269 -61.13376282\n"
    }
   ],
   "source": [
    "# Use the tuple() function to display the latitude and longitude combinations.\n",
    "for coordinate in coordinates:\n",
    "    print(coordinate[0], coordinate[1])"
   ]
  },
  {
   "cell_type": "code",
   "execution_count": 17,
   "metadata": {},
   "outputs": [],
   "source": [
    "# Add the latitudes and longitudes to a list.\n",
    "coordinates = list(lat_lngs)"
   ]
  },
  {
   "source": [
    "You can only unpack the zipped tuple once before it's removed from the memory\n",
    "<br>when you run `list(lat_lngs)` you get an empty list"
   ],
   "cell_type": "markdown",
   "metadata": {}
  },
  {
   "cell_type": "code",
   "execution_count": 18,
   "metadata": {},
   "outputs": [
    {
     "output_type": "execute_result",
     "data": {
      "text/plain": "[]"
     },
     "metadata": {},
     "execution_count": 18
    }
   ],
   "source": [
    "list(lat_lngs)"
   ]
  },
  {
   "cell_type": "code",
   "execution_count": 19,
   "metadata": {},
   "outputs": [
    {
     "output_type": "execute_result",
     "data": {
      "text/plain": "[(68.85477618952609, 14.21943783454094),\n (59.173157966027475, 32.629871858866835),\n (-81.12694889692675, 76.67985445394788),\n (-43.03097502728148, -140.94164471157345),\n (54.06404468804271, 71.47362770082188),\n (-79.92679294975183, 130.4092214139814),\n (-48.551222920768204, -131.03719899904252),\n (-19.53495704601241, 127.79150355744059),\n (68.03372937352546, -160.37908585565614),\n (-23.500477399354267, 18.162634859182617)]"
     },
     "metadata": {},
     "execution_count": 19
    }
   ],
   "source": [
    "coordinates[:10]"
   ]
  },
  {
   "cell_type": "code",
   "execution_count": 20,
   "metadata": {
    "tags": []
   },
   "outputs": [
    {
     "output_type": "stream",
     "name": "stdout",
     "text": "kabelvag no\nbudogoshch ru\nbusselton au\nrikitea pf\npoltavka ru\n"
    }
   ],
   "source": [
    "# Use the tuple() function to display the latitude and longitude combinations.\n",
    "for coordinate in coordinates[:5]:\n",
    "    print(citipy.nearest_city(coordinate[0], coordinate[1]).city_name,\n",
    "          citipy.nearest_city(coordinate[0], coordinate[1]).country_code)"
   ]
  },
  {
   "cell_type": "code",
   "execution_count": 21,
   "metadata": {},
   "outputs": [
    {
     "output_type": "execute_result",
     "data": {
      "text/plain": "626"
     },
     "metadata": {},
     "execution_count": 21
    }
   ],
   "source": [
    "# Create a list for holding the cities.\n",
    "cities = []\n",
    "# Identify the nearest city for each latitude and longitude combination.\n",
    "for coordinate in coordinates:\n",
    "    city = citipy.nearest_city(coordinate[0], coordinate[1]).city_name\n",
    "\n",
    "    # If the city is unique, then we will add it to the cities list.\n",
    "    if city not in cities:\n",
    "        cities.append(city)\n",
    "# Print the city count to confirm sufficient count.\n",
    "len(cities)"
   ]
  },
  {
   "cell_type": "code",
   "execution_count": 22,
   "metadata": {},
   "outputs": [],
   "source": [
    "# Import the requests library.\n",
    "import requests\n",
    "\n",
    "# Import the API key.\n",
    "from config import weather_api_key"
   ]
  },
  {
   "cell_type": "code",
   "execution_count": 23,
   "metadata": {},
   "outputs": [],
   "source": [
    "# Starting URL for Weather Map API Call.\n",
    "url = \"http://api.openweathermap.org/data/2.5/weather?units=Imperial&APPID=\" + weather_api_key\n"
   ]
  },
  {
   "cell_type": "code",
   "execution_count": 24,
   "metadata": {},
   "outputs": [],
   "source": [
    "# Import the datetime module from the datetime library.\n",
    "from datetime import datetime"
   ]
  },
  {
   "cell_type": "code",
   "execution_count": 25,
   "metadata": {
    "tags": [
     "outputPrepend"
    ]
   },
   "outputs": [
    {
     "output_type": "stream",
     "name": "stdout",
     "text": " Set 4 | east london\nProcessing Record 21 of Set 4 | guiratinga\nProcessing Record 22 of Set 4 | pringsewu\nProcessing Record 23 of Set 4 | litoral del san juan\nCity not found. Skipping...\nProcessing Record 24 of Set 4 | toba\nProcessing Record 25 of Set 4 | craig\nProcessing Record 26 of Set 4 | canutama\nProcessing Record 27 of Set 4 | kavieng\nProcessing Record 28 of Set 4 | oktyabrskoye\nProcessing Record 29 of Set 4 | khor\nProcessing Record 30 of Set 4 | puerto suarez\nProcessing Record 31 of Set 4 | talgar\nProcessing Record 32 of Set 4 | olafsvik\nProcessing Record 33 of Set 4 | kemijarvi\nProcessing Record 34 of Set 4 | ancud\nProcessing Record 35 of Set 4 | ponta do sol\nProcessing Record 36 of Set 4 | ulaanbaatar\nProcessing Record 37 of Set 4 | ambilobe\nProcessing Record 38 of Set 4 | kirakira\nProcessing Record 39 of Set 4 | clyde river\nProcessing Record 40 of Set 4 | leningradskiy\nProcessing Record 41 of Set 4 | margate\nProcessing Record 42 of Set 4 | tianmen\nProcessing Record 43 of Set 4 | santa maria\nProcessing Record 44 of Set 4 | longlac\nCity not found. Skipping...\nProcessing Record 45 of Set 4 | labuhan\nProcessing Record 46 of Set 4 | vaini\nProcessing Record 47 of Set 4 | mattru\nProcessing Record 48 of Set 4 | emerald\nProcessing Record 49 of Set 4 | san cristobal\nProcessing Record 50 of Set 4 | kodinsk\nProcessing Record 1 of Set 5 | ossora\nProcessing Record 2 of Set 5 | esenyurt\nProcessing Record 3 of Set 5 | atuona\nProcessing Record 4 of Set 5 | lata\nProcessing Record 5 of Set 5 | davila\nProcessing Record 6 of Set 5 | belogorsk\nProcessing Record 7 of Set 5 | lebu\nProcessing Record 8 of Set 5 | kloulklubed\nProcessing Record 9 of Set 5 | inhambupe\nProcessing Record 10 of Set 5 | ust-omchug\nProcessing Record 11 of Set 5 | narkanda\nProcessing Record 12 of Set 5 | upernavik\nProcessing Record 13 of Set 5 | velsk\nProcessing Record 14 of Set 5 | itarema\nProcessing Record 15 of Set 5 | evensk\nProcessing Record 16 of Set 5 | grand river south east\nCity not found. Skipping...\nProcessing Record 17 of Set 5 | doha\nProcessing Record 18 of Set 5 | rocha\nProcessing Record 19 of Set 5 | tahe\nProcessing Record 20 of Set 5 | sambava\nProcessing Record 21 of Set 5 | rawannawi\nCity not found. Skipping...\nProcessing Record 22 of Set 5 | la paz\nProcessing Record 23 of Set 5 | narsaq\nProcessing Record 24 of Set 5 | bur gabo\nCity not found. Skipping...\nProcessing Record 25 of Set 5 | tazovskiy\nProcessing Record 26 of Set 5 | pingliang\nProcessing Record 27 of Set 5 | kasongo-lunda\nProcessing Record 28 of Set 5 | anadyr\nProcessing Record 29 of Set 5 | airai\nProcessing Record 30 of Set 5 | waynesboro\nProcessing Record 31 of Set 5 | baruun-urt\nProcessing Record 32 of Set 5 | tutoia\nProcessing Record 33 of Set 5 | puerto narino\nProcessing Record 34 of Set 5 | arica\nProcessing Record 35 of Set 5 | kaeo\nProcessing Record 36 of Set 5 | college\nProcessing Record 37 of Set 5 | lethem\nProcessing Record 38 of Set 5 | ambatofinandrahana\nProcessing Record 39 of Set 5 | holme\nProcessing Record 40 of Set 5 | fairbanks\nProcessing Record 41 of Set 5 | kahului\nProcessing Record 42 of Set 5 | kavaratti\nProcessing Record 43 of Set 5 | carnarvon\nProcessing Record 44 of Set 5 | santiago\nProcessing Record 45 of Set 5 | eydhafushi\nProcessing Record 46 of Set 5 | borogontsy\nProcessing Record 47 of Set 5 | half moon bay\nProcessing Record 48 of Set 5 | kuche\nCity not found. Skipping...\nProcessing Record 49 of Set 5 | ijaki\nCity not found. Skipping...\nProcessing Record 50 of Set 5 | batagay-alyta\nProcessing Record 1 of Set 6 | pecos\nProcessing Record 2 of Set 6 | slave lake\nProcessing Record 3 of Set 6 | butaritari\nProcessing Record 4 of Set 6 | labrea\nProcessing Record 5 of Set 6 | cacequi\nProcessing Record 6 of Set 6 | nguiu\nCity not found. Skipping...\nProcessing Record 7 of Set 6 | opuwo\nProcessing Record 8 of Set 6 | goderich\nProcessing Record 9 of Set 6 | lagoa\nProcessing Record 10 of Set 6 | sasso marconi\nProcessing Record 11 of Set 6 | panzhihua\nProcessing Record 12 of Set 6 | codajas\nProcessing Record 13 of Set 6 | mosetse\nProcessing Record 14 of Set 6 | misratah\nProcessing Record 15 of Set 6 | arraial do cabo\nProcessing Record 16 of Set 6 | terney\nProcessing Record 17 of Set 6 | komsomolskiy\nProcessing Record 18 of Set 6 | bitung\nProcessing Record 19 of Set 6 | gemena\nProcessing Record 20 of Set 6 | nuevo progreso\nProcessing Record 21 of Set 6 | wanning\nProcessing Record 22 of Set 6 | padang\nProcessing Record 23 of Set 6 | duz\nCity not found. Skipping...\nProcessing Record 24 of Set 6 | chaykovskiy\nProcessing Record 25 of Set 6 | chulumani\nProcessing Record 26 of Set 6 | bilibino\nProcessing Record 27 of Set 6 | codrington\nProcessing Record 28 of Set 6 | sangueya\nProcessing Record 29 of Set 6 | leninskoye\nProcessing Record 30 of Set 6 | gladstone\nProcessing Record 31 of Set 6 | monkey bay\nProcessing Record 32 of Set 6 | praia\nProcessing Record 33 of Set 6 | aklavik\nProcessing Record 34 of Set 6 | amderma\nCity not found. Skipping...\nProcessing Record 35 of Set 6 | zyryanka\nProcessing Record 36 of Set 6 | hajduhadhaz\nProcessing Record 37 of Set 6 | sorong\nProcessing Record 38 of Set 6 | krasnoselkup\nProcessing Record 39 of Set 6 | cheremushskiy\nProcessing Record 40 of Set 6 | nabire\nProcessing Record 41 of Set 6 | miri\nProcessing Record 42 of Set 6 | sept-iles\nProcessing Record 43 of Set 6 | manaure\nProcessing Record 44 of Set 6 | talnakh\nProcessing Record 45 of Set 6 | muros\nProcessing Record 46 of Set 6 | puerto madero\nProcessing Record 47 of Set 6 | ryabovo\nProcessing Record 48 of Set 6 | toliary\nCity not found. Skipping...\nProcessing Record 49 of Set 6 | porto novo\nProcessing Record 50 of Set 6 | amga\nProcessing Record 1 of Set 7 | pevek\nProcessing Record 2 of Set 7 | urengoy\nProcessing Record 3 of Set 7 | dali\nProcessing Record 4 of Set 7 | perevolotskiy\nProcessing Record 5 of Set 7 | mogadishu\nProcessing Record 6 of Set 7 | zhigansk\nProcessing Record 7 of Set 7 | marzuq\nProcessing Record 8 of Set 7 | yuanping\nProcessing Record 9 of Set 7 | orange walk\nProcessing Record 10 of Set 7 | san patricio\nProcessing Record 11 of Set 7 | klaksvik\nProcessing Record 12 of Set 7 | gull lake\nProcessing Record 13 of Set 7 | oxford\nProcessing Record 14 of Set 7 | vanavara\nProcessing Record 15 of Set 7 | los llanos de aridane\nProcessing Record 16 of Set 7 | dhidhdhoo\nProcessing Record 17 of Set 7 | srednekolymsk\nProcessing Record 18 of Set 7 | ostrovnoy\nProcessing Record 19 of Set 7 | yulara\nProcessing Record 20 of Set 7 | haimen\nProcessing Record 21 of Set 7 | fairfield\nProcessing Record 22 of Set 7 | henties bay\nProcessing Record 23 of Set 7 | morada nova\nProcessing Record 24 of Set 7 | ulladulla\nProcessing Record 25 of Set 7 | lorengau\nProcessing Record 26 of Set 7 | kiama\nProcessing Record 27 of Set 7 | torbay\nProcessing Record 28 of Set 7 | belousovka\nProcessing Record 29 of Set 7 | nemuro\nProcessing Record 30 of Set 7 | hasaki\nProcessing Record 31 of Set 7 | beyneu\nProcessing Record 32 of Set 7 | presidencia roque saenz pena\nProcessing Record 33 of Set 7 | bull savanna\nProcessing Record 34 of Set 7 | nuuk\nProcessing Record 35 of Set 7 | oneida\nProcessing Record 36 of Set 7 | karakol\nProcessing Record 37 of Set 7 | suba\nProcessing Record 38 of Set 7 | namatanai\nProcessing Record 39 of Set 7 | rawah\nProcessing Record 40 of Set 7 | port hedland\nProcessing Record 41 of Set 7 | batemans bay\nProcessing Record 42 of Set 7 | gautier\nProcessing Record 43 of Set 7 | savannah bight\nProcessing Record 44 of Set 7 | iqaluit\nProcessing Record 45 of Set 7 | pike creek\nProcessing Record 46 of Set 7 | tirumullaivasal\nProcessing Record 47 of Set 7 | spring hill\nProcessing Record 48 of Set 7 | envira\nProcessing Record 49 of Set 7 | fort frances\nProcessing Record 50 of Set 7 | san francisco\nProcessing Record 1 of Set 8 | ural\nProcessing Record 2 of Set 8 | mayahi\nProcessing Record 3 of Set 8 | yaan\nProcessing Record 4 of Set 8 | san quintin\nProcessing Record 5 of Set 8 | noyabrsk\nProcessing Record 6 of Set 8 | vila franca do campo\nProcessing Record 7 of Set 8 | praya\nProcessing Record 8 of Set 8 | abha\nProcessing Record 9 of Set 8 | grindavik\nProcessing Record 10 of Set 8 | mosquera\nProcessing Record 11 of Set 8 | abnub\nProcessing Record 12 of Set 8 | san policarpo\nProcessing Record 13 of Set 8 | longyearbyen\nProcessing Record 14 of Set 8 | altamont\nProcessing Record 15 of Set 8 | saint george\nProcessing Record 16 of Set 8 | okhotsk\nProcessing Record 17 of Set 8 | hofn\nProcessing Record 18 of Set 8 | manthani\nProcessing Record 19 of Set 8 | semirom\nProcessing Record 20 of Set 8 | edgewater\nProcessing Record 21 of Set 8 | sheopur\nProcessing Record 22 of Set 8 | te anau\nProcessing Record 23 of Set 8 | teguise\nProcessing Record 24 of Set 8 | saskylakh\nProcessing Record 25 of Set 8 | sitka\nProcessing Record 26 of Set 8 | visnes\nProcessing Record 27 of Set 8 | bud\nProcessing Record 28 of Set 8 | faya\nProcessing Record 29 of Set 8 | mo i rana\nProcessing Record 30 of Set 8 | tabuk\nProcessing Record 31 of Set 8 | ambanja\nProcessing Record 32 of Set 8 | ternate\nProcessing Record 33 of Set 8 | khorramshahr\nProcessing Record 34 of Set 8 | prince rupert\nProcessing Record 35 of Set 8 | moranbah\nProcessing Record 36 of Set 8 | muli\nProcessing Record 37 of Set 8 | shaoguan\nProcessing Record 38 of Set 8 | salamiyah\nProcessing Record 39 of Set 8 | manadhoo\nProcessing Record 40 of Set 8 | samut songkhram\nProcessing Record 41 of Set 8 | nanortalik\nProcessing Record 42 of Set 8 | hendijan\nCity not found. Skipping...\nProcessing Record 43 of Set 8 | ludvika\nProcessing Record 44 of Set 8 | los dos caminos\nProcessing Record 45 of Set 8 | mastic beach\nProcessing Record 46 of Set 8 | iracoubo\nProcessing Record 47 of Set 8 | piranhas\nProcessing Record 48 of Set 8 | florianopolis\nProcessing Record 49 of Set 8 | victoria\nProcessing Record 50 of Set 8 | mitsamiouli\nProcessing Record 1 of Set 9 | tres coroas\nProcessing Record 2 of Set 9 | kangaatsiaq\nProcessing Record 3 of Set 9 | amarkantak\nProcessing Record 4 of Set 9 | san antonio\nProcessing Record 5 of Set 9 | bago\nProcessing Record 6 of Set 9 | sao jose da coroa grande\nProcessing Record 7 of Set 9 | kendari\nProcessing Record 8 of Set 9 | neftcala\nProcessing Record 9 of Set 9 | sabha\nProcessing Record 10 of Set 9 | berdigestyakh\nProcessing Record 11 of Set 9 | pucallpa\nProcessing Record 12 of Set 9 | vorontsovka\nProcessing Record 13 of Set 9 | hammerfest\nProcessing Record 14 of Set 9 | san juan\nProcessing Record 15 of Set 9 | broken hill\nProcessing Record 16 of Set 9 | safford\nProcessing Record 17 of Set 9 | bilma\nProcessing Record 18 of Set 9 | meulaboh\nProcessing Record 19 of Set 9 | salo\nProcessing Record 20 of Set 9 | valparaiso\nProcessing Record 21 of Set 9 | nokaneng\nProcessing Record 22 of Set 9 | tabiauea\nCity not found. Skipping...\nProcessing Record 23 of Set 9 | benguela\nProcessing Record 24 of Set 9 | uglovskoye\nProcessing Record 25 of Set 9 | acapulco\nProcessing Record 26 of Set 9 | deputatskiy\nProcessing Record 27 of Set 9 | santa magdalena\nProcessing Record 28 of Set 9 | luanda\nProcessing Record 29 of Set 9 | atar\nProcessing Record 30 of Set 9 | tchaourou\nProcessing Record 31 of Set 9 | paris\nProcessing Record 32 of Set 9 | aflu\nCity not found. Skipping...\nProcessing Record 33 of Set 9 | vestbygda\nCity not found. Skipping...\nProcessing Record 34 of Set 9 | saint-augustin\nProcessing Record 35 of Set 9 | cabadiangan\nProcessing Record 36 of Set 9 | sao filipe\nProcessing Record 37 of Set 9 | touros\nProcessing Record 38 of Set 9 | qasigiannguit\nProcessing Record 39 of Set 9 | haines junction\nProcessing Record 40 of Set 9 | atasu\nProcessing Record 41 of Set 9 | najran\nProcessing Record 42 of Set 9 | ukiah\nProcessing Record 43 of Set 9 | yola\nProcessing Record 44 of Set 9 | arman\nProcessing Record 45 of Set 9 | merauke\nProcessing Record 46 of Set 9 | cody\nProcessing Record 47 of Set 9 | hohhot\nProcessing Record 48 of Set 9 | oktyabrskiy\nProcessing Record 49 of Set 9 | patnanungan\nProcessing Record 50 of Set 9 | tromso\nProcessing Record 1 of Set 10 | bac lieu\nProcessing Record 2 of Set 10 | yar-sale\nProcessing Record 3 of Set 10 | pimenta bueno\nProcessing Record 4 of Set 10 | sakhipur\nProcessing Record 5 of Set 10 | lasa\nProcessing Record 6 of Set 10 | buqayq\nCity not found. Skipping...\nProcessing Record 7 of Set 10 | vitimskiy\nCity not found. Skipping...\nProcessing Record 8 of Set 10 | eyl\nProcessing Record 9 of Set 10 | namibe\nProcessing Record 10 of Set 10 | port hardy\nProcessing Record 11 of Set 10 | dongsheng\nProcessing Record 12 of Set 10 | ranong\nProcessing Record 13 of Set 10 | seguela\nProcessing Record 14 of Set 10 | amuntai\nProcessing Record 15 of Set 10 | luderitz\nProcessing Record 16 of Set 10 | mestec kralove\nProcessing Record 17 of Set 10 | aylesbury\nProcessing Record 18 of Set 10 | riyadh\nProcessing Record 19 of Set 10 | tres lagoas\nProcessing Record 20 of Set 10 | khalilabad\nProcessing Record 21 of Set 10 | botro\nProcessing Record 22 of Set 10 | rantauprapat\nProcessing Record 23 of Set 10 | gornopravdinsk\nProcessing Record 24 of Set 10 | eureka\nProcessing Record 25 of Set 10 | saquena\nProcessing Record 26 of Set 10 | bossangoa\nProcessing Record 27 of Set 10 | naples\nProcessing Record 28 of Set 10 | naberera\nProcessing Record 29 of Set 10 | dawlatabad\nProcessing Record 30 of Set 10 | rigaud\nProcessing Record 31 of Set 10 | balotra\nProcessing Record 32 of Set 10 | lavrentiya\nProcessing Record 33 of Set 10 | inhambane\nProcessing Record 34 of Set 10 | warrington\nProcessing Record 35 of Set 10 | laguna\nProcessing Record 36 of Set 10 | palabuhanratu\nCity not found. Skipping...\nProcessing Record 37 of Set 10 | mbaiki\nProcessing Record 38 of Set 10 | labutta\nCity not found. Skipping...\nProcessing Record 39 of Set 10 | deyang\nProcessing Record 40 of Set 10 | talcahuano\nProcessing Record 41 of Set 10 | ozgon\nCity not found. Skipping...\nProcessing Record 42 of Set 10 | grand centre\nCity not found. Skipping...\nProcessing Record 43 of Set 10 | caravelas\nProcessing Record 44 of Set 10 | alice springs\nProcessing Record 45 of Set 10 | vostok\nProcessing Record 46 of Set 10 | cosenza\nProcessing Record 47 of Set 10 | sibolga\nProcessing Record 48 of Set 10 | huarmey\nProcessing Record 49 of Set 10 | jaicos\nProcessing Record 50 of Set 10 | guamuchil\nProcessing Record 1 of Set 11 | coihaique\nProcessing Record 2 of Set 11 | nome\nProcessing Record 3 of Set 11 | puerto escondido\nProcessing Record 4 of Set 11 | pangnirtung\nProcessing Record 5 of Set 11 | alofi\nProcessing Record 6 of Set 11 | tanshui\nCity not found. Skipping...\nProcessing Record 7 of Set 11 | shiyan\nProcessing Record 8 of Set 11 | bend\nProcessing Record 9 of Set 11 | makakilo city\nProcessing Record 10 of Set 11 | ornskoldsvik\nProcessing Record 11 of Set 11 | arlit\nProcessing Record 12 of Set 11 | de aar\nProcessing Record 13 of Set 11 | naze\nProcessing Record 14 of Set 11 | staraya kulatka\nProcessing Record 15 of Set 11 | zhuanghe\nProcessing Record 16 of Set 11 | gimli\nProcessing Record 17 of Set 11 | teahupoo\nProcessing Record 18 of Set 11 | sackville\nProcessing Record 19 of Set 11 | abomey-calavi\nProcessing Record 20 of Set 11 | cayenne\nProcessing Record 21 of Set 11 | inverell\nProcessing Record 22 of Set 11 | colac\nProcessing Record 23 of Set 11 | iranshahr\nProcessing Record 24 of Set 11 | sorland\nProcessing Record 25 of Set 11 | port blair\nProcessing Record 26 of Set 11 | naron\nProcessing Record 27 of Set 11 | iguape\nProcessing Record 28 of Set 11 | batken\nProcessing Record 29 of Set 11 | isangel\nProcessing Record 30 of Set 11 | road town\nProcessing Record 31 of Set 11 | lyubuchany\nProcessing Record 32 of Set 11 | placer\nProcessing Record 33 of Set 11 | gawler\nProcessing Record 34 of Set 11 | japura\nProcessing Record 35 of Set 11 | badarpur\nProcessing Record 36 of Set 11 | geraldton\nProcessing Record 37 of Set 11 | fevralsk\nCity not found. Skipping...\nProcessing Record 38 of Set 11 | hirara\nProcessing Record 39 of Set 11 | south lake tahoe\nProcessing Record 40 of Set 11 | tsihombe\nCity not found. Skipping...\nProcessing Record 41 of Set 11 | gwadar\nProcessing Record 42 of Set 11 | mount gambier\nProcessing Record 43 of Set 11 | virtsu\nProcessing Record 44 of Set 11 | khudumelapye\nProcessing Record 45 of Set 11 | marsh harbour\nProcessing Record 46 of Set 11 | verkh-usugli\nProcessing Record 47 of Set 11 | campoverde\nProcessing Record 48 of Set 11 | laizhou\nProcessing Record 49 of Set 11 | ayan\nProcessing Record 50 of Set 11 | zharkovskiy\nProcessing Record 1 of Set 12 | negombo\nProcessing Record 2 of Set 12 | kibondo\nProcessing Record 3 of Set 12 | weihai\nProcessing Record 4 of Set 12 | asau\nProcessing Record 5 of Set 12 | port-gentil\nProcessing Record 6 of Set 12 | mackay\nProcessing Record 7 of Set 12 | la tuque\nProcessing Record 8 of Set 12 | guerrero negro\nProcessing Record 9 of Set 12 | lolua\nCity not found. Skipping...\nProcessing Record 10 of Set 12 | teguldet\nProcessing Record 11 of Set 12 | vestmanna\nProcessing Record 12 of Set 12 | depok\nProcessing Record 13 of Set 12 | mbanza-ngungu\nProcessing Record 14 of Set 12 | dalby\nProcessing Record 15 of Set 12 | doksy\nProcessing Record 16 of Set 12 | vozhega\nProcessing Record 17 of Set 12 | perdika\nProcessing Record 18 of Set 12 | sistranda\nProcessing Record 19 of Set 12 | busembatia\nProcessing Record 20 of Set 12 | bolungarvik\nCity not found. Skipping...\nProcessing Record 21 of Set 12 | pereleshino\nProcessing Record 22 of Set 12 | qaqortoq\nProcessing Record 23 of Set 12 | ust-koksa\nProcessing Record 24 of Set 12 | pinawa\nProcessing Record 25 of Set 12 | kungurtug\nProcessing Record 26 of Set 12 | lumby\nProcessing Record 27 of Set 12 | mercedes\nProcessing Record 28 of Set 12 | san lorenzo\nProcessing Record 29 of Set 12 | tura\nProcessing Record 30 of Set 12 | north battleford\nProcessing Record 31 of Set 12 | coulihaut\nCity not found. Skipping...\nProcessing Record 32 of Set 12 | waipawa\nProcessing Record 33 of Set 12 | dancheng\nProcessing Record 34 of Set 12 | benidorm\nProcessing Record 35 of Set 12 | katha\nCity not found. Skipping...\nProcessing Record 36 of Set 12 | avera\nProcessing Record 37 of Set 12 | depalpur\nProcessing Record 38 of Set 12 | paso de carrasco\nProcessing Record 39 of Set 12 | puro\nProcessing Record 40 of Set 12 | hadishahr\nProcessing Record 41 of Set 12 | vegreville\nProcessing Record 42 of Set 12 | port macquarie\nProcessing Record 43 of Set 12 | turukhansk\nProcessing Record 44 of Set 12 | biltine\nProcessing Record 45 of Set 12 | bababe\nCity not found. Skipping...\nProcessing Record 46 of Set 12 | arkadak\nProcessing Record 47 of Set 12 | pincher creek\nProcessing Record 48 of Set 12 | remedios\nProcessing Record 49 of Set 12 | suluq\nProcessing Record 50 of Set 12 | san carlos de bariloche\nProcessing Record 1 of Set 13 | camacha\nProcessing Record 2 of Set 13 | hay river\nProcessing Record 3 of Set 13 | nizhneyansk\nCity not found. Skipping...\nProcessing Record 4 of Set 13 | kudahuvadhoo\nProcessing Record 5 of Set 13 | salinopolis\nProcessing Record 6 of Set 13 | kayerkan\nProcessing Record 7 of Set 13 | antofagasta\nProcessing Record 8 of Set 13 | mae tha\nProcessing Record 9 of Set 13 | bereda\nProcessing Record 10 of Set 13 | kampong cham\nProcessing Record 11 of Set 13 | adilcevaz\nProcessing Record 12 of Set 13 | nantucket\nProcessing Record 13 of Set 13 | lady frere\nProcessing Record 14 of Set 13 | erenhot\nProcessing Record 15 of Set 13 | danielskuil\nProcessing Record 16 of Set 13 | nizhniy odes\nProcessing Record 17 of Set 13 | attawapiskat\nCity not found. Skipping...\nProcessing Record 18 of Set 13 | burns lake\nProcessing Record 19 of Set 13 | bowen\nProcessing Record 20 of Set 13 | jumla\nProcessing Record 21 of Set 13 | omboue\nProcessing Record 22 of Set 13 | kenai\nProcessing Record 23 of Set 13 | hambantota\nProcessing Record 24 of Set 13 | ipixuna\nProcessing Record 25 of Set 13 | magui\nCity not found. Skipping...\nProcessing Record 26 of Set 13 | bonavista\n-----------------------------\nData Retrieval Complete      \n-----------------------------\n"
    }
   ],
   "source": [
    "# Create an empty list to hold the weather data.\n",
    "city_data = []\n",
    "# Print the beginning of the logging.\n",
    "print(\"Beginning Data Retrieval     \")\n",
    "print(\"-----------------------------\")\n",
    "\n",
    "# Create counters.\n",
    "record_count = 1\n",
    "set_count = 1\n",
    "# Loop through all the cities in the list.\n",
    "for i, city in enumerate(cities):\n",
    "\n",
    "    # Group cities in sets of 50 for logging purposes.\n",
    "    if (i % 50 == 0 and i >= 50):\n",
    "        set_count += 1\n",
    "        record_count = 1\n",
    "    # Create endpoint URL with each city.\n",
    "    city_url = url + \"&q=\" + city.replace(\" \",\"+\")\n",
    "\n",
    "    # Log the URL, record, and set numbers and the city.\n",
    "    print(f\"Processing Record {record_count} of Set {set_count} | {city}\")\n",
    "    # Add 1 to the record count.\n",
    "    record_count += 1\n",
    "    # Run an API request for each of the cities.\n",
    "    try:\n",
    "        # Parse the JSON and retrieve data.\n",
    "        city_weather = requests.get(city_url).json()\n",
    "        # Parse out the needed data.\n",
    "        city_lat = city_weather[\"coord\"][\"lat\"]\n",
    "        city_lng = city_weather[\"coord\"][\"lon\"]\n",
    "        city_max_temp = city_weather[\"main\"][\"temp_max\"]\n",
    "        city_humidity = city_weather[\"main\"][\"humidity\"]\n",
    "        city_clouds = city_weather[\"clouds\"][\"all\"]\n",
    "        city_wind = city_weather[\"wind\"][\"speed\"]\n",
    "        city_country = city_weather[\"sys\"][\"country\"]\n",
    "        # Convert the date to ISO standard.\n",
    "        city_date = datetime.utcfromtimestamp(city_weather[\"dt\"]).strftime('%Y-%m-%d %H:%M:%S')\n",
    "        # Append the city information into city_data list.\n",
    "        city_data.append({\"City\": city.title(),\n",
    "                          \"Lat\": city_lat,\n",
    "                          \"Lng\": city_lng,\n",
    "                          \"Max Temp\": city_max_temp,\n",
    "                          \"Humidity\": city_humidity,\n",
    "                          \"Cloudiness\": city_clouds,\n",
    "                          \"Wind Speed\": city_wind,\n",
    "                          \"Country\": city_country,\n",
    "                          \"Date\": city_date})\n",
    "\n",
    "# If an error is experienced, skip the city.\n",
    "    except:\n",
    "        print(\"City not found. Skipping...\")\n",
    "        pass\n",
    "\n",
    "# Indicate that Data Loading is complete.\n",
    "print(\"-----------------------------\")\n",
    "print(\"Data Retrieval Complete      \")\n",
    "print(\"-----------------------------\")"
   ]
  },
  {
   "cell_type": "code",
   "execution_count": 28,
   "metadata": {},
   "outputs": [
    {
     "output_type": "execute_result",
     "data": {
      "text/plain": "577"
     },
     "metadata": {},
     "execution_count": 28
    }
   ],
   "source": [
    "len(city_data)"
   ]
  },
  {
   "cell_type": "code",
   "execution_count": 29,
   "metadata": {},
   "outputs": [
    {
     "output_type": "execute_result",
     "data": {
      "text/plain": "           City    Lat     Lng  Max Temp  Humidity  Cloudiness  Wind Speed  \\\n0      Kabelvag  68.21   14.48     50.00        88          45        9.48   \n1    Budogoshch  59.28   32.47     51.06        87          75        5.50   \n2     Busselton -33.65  115.33     57.99        95          83        3.00   \n3       Rikitea -23.12 -134.97     72.25        89          36       17.52   \n4      Poltavka  54.37   71.76     50.74        88         100       14.45   \n5   New Norfolk -42.78  147.06     55.00        64           8        1.99   \n6     Kununurra -15.77  128.73     84.20        62          63        1.12   \n7        Barrow  71.29 -156.79     30.20        80          90       12.75   \n8      Rehoboth -23.32   17.08     44.60        46           0        2.59   \n9  Puerto Ayora  -0.74  -90.35     68.00        85          91        5.01   \n\n  Country                 Date  \n0      NO  2020-09-28 23:50:58  \n1      RU  2020-09-28 23:50:58  \n2      AU  2020-09-28 23:50:58  \n3      PF  2020-09-28 23:50:59  \n4      RU  2020-09-28 23:50:59  \n5      AU  2020-09-28 23:50:59  \n6      AU  2020-09-28 23:51:00  \n7      US  2020-09-28 23:51:00  \n8      NA  2020-09-28 23:51:00  \n9      EC  2020-09-28 23:49:15  ",
      "text/html": "<div>\n<style scoped>\n    .dataframe tbody tr th:only-of-type {\n        vertical-align: middle;\n    }\n\n    .dataframe tbody tr th {\n        vertical-align: top;\n    }\n\n    .dataframe thead th {\n        text-align: right;\n    }\n</style>\n<table border=\"1\" class=\"dataframe\">\n  <thead>\n    <tr style=\"text-align: right;\">\n      <th></th>\n      <th>City</th>\n      <th>Lat</th>\n      <th>Lng</th>\n      <th>Max Temp</th>\n      <th>Humidity</th>\n      <th>Cloudiness</th>\n      <th>Wind Speed</th>\n      <th>Country</th>\n      <th>Date</th>\n    </tr>\n  </thead>\n  <tbody>\n    <tr>\n      <th>0</th>\n      <td>Kabelvag</td>\n      <td>68.21</td>\n      <td>14.48</td>\n      <td>50.00</td>\n      <td>88</td>\n      <td>45</td>\n      <td>9.48</td>\n      <td>NO</td>\n      <td>2020-09-28 23:50:58</td>\n    </tr>\n    <tr>\n      <th>1</th>\n      <td>Budogoshch</td>\n      <td>59.28</td>\n      <td>32.47</td>\n      <td>51.06</td>\n      <td>87</td>\n      <td>75</td>\n      <td>5.50</td>\n      <td>RU</td>\n      <td>2020-09-28 23:50:58</td>\n    </tr>\n    <tr>\n      <th>2</th>\n      <td>Busselton</td>\n      <td>-33.65</td>\n      <td>115.33</td>\n      <td>57.99</td>\n      <td>95</td>\n      <td>83</td>\n      <td>3.00</td>\n      <td>AU</td>\n      <td>2020-09-28 23:50:58</td>\n    </tr>\n    <tr>\n      <th>3</th>\n      <td>Rikitea</td>\n      <td>-23.12</td>\n      <td>-134.97</td>\n      <td>72.25</td>\n      <td>89</td>\n      <td>36</td>\n      <td>17.52</td>\n      <td>PF</td>\n      <td>2020-09-28 23:50:59</td>\n    </tr>\n    <tr>\n      <th>4</th>\n      <td>Poltavka</td>\n      <td>54.37</td>\n      <td>71.76</td>\n      <td>50.74</td>\n      <td>88</td>\n      <td>100</td>\n      <td>14.45</td>\n      <td>RU</td>\n      <td>2020-09-28 23:50:59</td>\n    </tr>\n    <tr>\n      <th>5</th>\n      <td>New Norfolk</td>\n      <td>-42.78</td>\n      <td>147.06</td>\n      <td>55.00</td>\n      <td>64</td>\n      <td>8</td>\n      <td>1.99</td>\n      <td>AU</td>\n      <td>2020-09-28 23:50:59</td>\n    </tr>\n    <tr>\n      <th>6</th>\n      <td>Kununurra</td>\n      <td>-15.77</td>\n      <td>128.73</td>\n      <td>84.20</td>\n      <td>62</td>\n      <td>63</td>\n      <td>1.12</td>\n      <td>AU</td>\n      <td>2020-09-28 23:51:00</td>\n    </tr>\n    <tr>\n      <th>7</th>\n      <td>Barrow</td>\n      <td>71.29</td>\n      <td>-156.79</td>\n      <td>30.20</td>\n      <td>80</td>\n      <td>90</td>\n      <td>12.75</td>\n      <td>US</td>\n      <td>2020-09-28 23:51:00</td>\n    </tr>\n    <tr>\n      <th>8</th>\n      <td>Rehoboth</td>\n      <td>-23.32</td>\n      <td>17.08</td>\n      <td>44.60</td>\n      <td>46</td>\n      <td>0</td>\n      <td>2.59</td>\n      <td>NA</td>\n      <td>2020-09-28 23:51:00</td>\n    </tr>\n    <tr>\n      <th>9</th>\n      <td>Puerto Ayora</td>\n      <td>-0.74</td>\n      <td>-90.35</td>\n      <td>68.00</td>\n      <td>85</td>\n      <td>91</td>\n      <td>5.01</td>\n      <td>EC</td>\n      <td>2020-09-28 23:49:15</td>\n    </tr>\n  </tbody>\n</table>\n</div>"
     },
     "metadata": {},
     "execution_count": 29
    }
   ],
   "source": [
    "# Convert the array of dictionaries to a Pandas DataFrame.\n",
    "city_data_df = pd.DataFrame(city_data)\n",
    "city_data_df.head(10)"
   ]
  },
  {
   "cell_type": "code",
   "execution_count": 31,
   "metadata": {},
   "outputs": [
    {
     "output_type": "execute_result",
     "data": {
      "text/plain": "           City Country                 Date    Lat     Lng  Max Temp  \\\n0      Kabelvag      NO  2020-09-28 23:50:58  68.21   14.48     50.00   \n1    Budogoshch      RU  2020-09-28 23:50:58  59.28   32.47     51.06   \n2     Busselton      AU  2020-09-28 23:50:58 -33.65  115.33     57.99   \n3       Rikitea      PF  2020-09-28 23:50:59 -23.12 -134.97     72.25   \n4      Poltavka      RU  2020-09-28 23:50:59  54.37   71.76     50.74   \n..          ...     ...                  ...    ...     ...       ...   \n572      Omboue      GA  2020-09-28 23:53:24  -1.57    9.26     74.23   \n573       Kenai      US  2020-09-28 23:53:24  60.55 -151.26     53.01   \n574  Hambantota      LK  2020-09-28 23:53:24   6.12   81.12     80.17   \n575     Ipixuna      BR  2020-09-28 23:53:24  -1.76  -48.80     77.00   \n576   Bonavista      CA  2020-09-28 23:53:25  48.65  -53.11     62.19   \n\n     Humidity  Cloudiness  Wind Speed  \n0          88          45        9.48  \n1          87          75        5.50  \n2          95          83        3.00  \n3          89          36       17.52  \n4          88         100       14.45  \n..        ...         ...         ...  \n572        79          42        5.75  \n573        76          90        6.93  \n574        80          97       15.48  \n575        94          99        2.24  \n576        86          72       17.31  \n\n[577 rows x 9 columns]",
      "text/html": "<div>\n<style scoped>\n    .dataframe tbody tr th:only-of-type {\n        vertical-align: middle;\n    }\n\n    .dataframe tbody tr th {\n        vertical-align: top;\n    }\n\n    .dataframe thead th {\n        text-align: right;\n    }\n</style>\n<table border=\"1\" class=\"dataframe\">\n  <thead>\n    <tr style=\"text-align: right;\">\n      <th></th>\n      <th>City</th>\n      <th>Country</th>\n      <th>Date</th>\n      <th>Lat</th>\n      <th>Lng</th>\n      <th>Max Temp</th>\n      <th>Humidity</th>\n      <th>Cloudiness</th>\n      <th>Wind Speed</th>\n    </tr>\n  </thead>\n  <tbody>\n    <tr>\n      <th>0</th>\n      <td>Kabelvag</td>\n      <td>NO</td>\n      <td>2020-09-28 23:50:58</td>\n      <td>68.21</td>\n      <td>14.48</td>\n      <td>50.00</td>\n      <td>88</td>\n      <td>45</td>\n      <td>9.48</td>\n    </tr>\n    <tr>\n      <th>1</th>\n      <td>Budogoshch</td>\n      <td>RU</td>\n      <td>2020-09-28 23:50:58</td>\n      <td>59.28</td>\n      <td>32.47</td>\n      <td>51.06</td>\n      <td>87</td>\n      <td>75</td>\n      <td>5.50</td>\n    </tr>\n    <tr>\n      <th>2</th>\n      <td>Busselton</td>\n      <td>AU</td>\n      <td>2020-09-28 23:50:58</td>\n      <td>-33.65</td>\n      <td>115.33</td>\n      <td>57.99</td>\n      <td>95</td>\n      <td>83</td>\n      <td>3.00</td>\n    </tr>\n    <tr>\n      <th>3</th>\n      <td>Rikitea</td>\n      <td>PF</td>\n      <td>2020-09-28 23:50:59</td>\n      <td>-23.12</td>\n      <td>-134.97</td>\n      <td>72.25</td>\n      <td>89</td>\n      <td>36</td>\n      <td>17.52</td>\n    </tr>\n    <tr>\n      <th>4</th>\n      <td>Poltavka</td>\n      <td>RU</td>\n      <td>2020-09-28 23:50:59</td>\n      <td>54.37</td>\n      <td>71.76</td>\n      <td>50.74</td>\n      <td>88</td>\n      <td>100</td>\n      <td>14.45</td>\n    </tr>\n    <tr>\n      <th>...</th>\n      <td>...</td>\n      <td>...</td>\n      <td>...</td>\n      <td>...</td>\n      <td>...</td>\n      <td>...</td>\n      <td>...</td>\n      <td>...</td>\n      <td>...</td>\n    </tr>\n    <tr>\n      <th>572</th>\n      <td>Omboue</td>\n      <td>GA</td>\n      <td>2020-09-28 23:53:24</td>\n      <td>-1.57</td>\n      <td>9.26</td>\n      <td>74.23</td>\n      <td>79</td>\n      <td>42</td>\n      <td>5.75</td>\n    </tr>\n    <tr>\n      <th>573</th>\n      <td>Kenai</td>\n      <td>US</td>\n      <td>2020-09-28 23:53:24</td>\n      <td>60.55</td>\n      <td>-151.26</td>\n      <td>53.01</td>\n      <td>76</td>\n      <td>90</td>\n      <td>6.93</td>\n    </tr>\n    <tr>\n      <th>574</th>\n      <td>Hambantota</td>\n      <td>LK</td>\n      <td>2020-09-28 23:53:24</td>\n      <td>6.12</td>\n      <td>81.12</td>\n      <td>80.17</td>\n      <td>80</td>\n      <td>97</td>\n      <td>15.48</td>\n    </tr>\n    <tr>\n      <th>575</th>\n      <td>Ipixuna</td>\n      <td>BR</td>\n      <td>2020-09-28 23:53:24</td>\n      <td>-1.76</td>\n      <td>-48.80</td>\n      <td>77.00</td>\n      <td>94</td>\n      <td>99</td>\n      <td>2.24</td>\n    </tr>\n    <tr>\n      <th>576</th>\n      <td>Bonavista</td>\n      <td>CA</td>\n      <td>2020-09-28 23:53:25</td>\n      <td>48.65</td>\n      <td>-53.11</td>\n      <td>62.19</td>\n      <td>86</td>\n      <td>72</td>\n      <td>17.31</td>\n    </tr>\n  </tbody>\n</table>\n<p>577 rows × 9 columns</p>\n</div>"
     },
     "metadata": {},
     "execution_count": 31
    }
   ],
   "source": [
    "# re-order the columns as required\n",
    "new_column_order=['City','Country','Date','Lat','Lng','Max Temp','Humidity','Cloudiness','Wind Speed']\n",
    "city_data_df = city_data_df[new_column_order]\n",
    "city_data_df"
   ]
  },
  {
   "cell_type": "code",
   "execution_count": 32,
   "metadata": {},
   "outputs": [],
   "source": [
    "# Create the output file (CSV).\n",
    "output_data_file = \"weather_data/cities.csv\"\n",
    "# Export the City_Data into a CSV.\n",
    "city_data_df.to_csv(output_data_file, index_label=\"City_ID\")"
   ]
  },
  {
   "cell_type": "code",
   "execution_count": null,
   "metadata": {},
   "outputs": [],
   "source": []
  }
 ]
}